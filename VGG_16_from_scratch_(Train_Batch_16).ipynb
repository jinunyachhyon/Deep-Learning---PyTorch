{
  "nbformat": 4,
  "nbformat_minor": 0,
  "metadata": {
    "colab": {
      "provenance": [],
      "gpuType": "T4",
      "authorship_tag": "ABX9TyNRnhuUN7hqAXAYRLrNfdRO",
      "include_colab_link": true
    },
    "kernelspec": {
      "name": "python3",
      "display_name": "Python 3"
    },
    "language_info": {
      "name": "python"
    },
    "accelerator": "GPU"
  },
  "cells": [
    {
      "cell_type": "markdown",
      "metadata": {
        "id": "view-in-github",
        "colab_type": "text"
      },
      "source": [
        "<a href=\"https://colab.research.google.com/github/jinunyachhyon/Deep-Learning---PyTorch/blob/main/VGG_16_from_scratch_(Train_Batch_16).ipynb\" target=\"_parent\"><img src=\"https://colab.research.google.com/assets/colab-badge.svg\" alt=\"Open In Colab\"/></a>"
      ]
    },
    {
      "cell_type": "markdown",
      "source": [
        "# VGG-16 Architecture"
      ],
      "metadata": {
        "id": "PlFRnGcJtRqh"
      }
    },
    {
      "cell_type": "code",
      "execution_count": 4,
      "metadata": {
        "id": "4RNR04V1CDIJ"
      },
      "outputs": [],
      "source": [
        "# Imports \n",
        "import torch\n",
        "import torch.nn as nn"
      ]
    },
    {
      "cell_type": "code",
      "source": [
        "# VGG-16 architecture - convolution layer\n",
        "VGG16 = [64,64, 'M', 128, 128, 'M', 256, 256, 256, 'M', 512, 512, 512, 'M', 512, 512, 512, 'M']"
      ],
      "metadata": {
        "id": "YGIPUnhSdoOs"
      },
      "execution_count": 5,
      "outputs": []
    },
    {
      "cell_type": "code",
      "source": [
        "# Create VGG-16 architecture\n",
        "class VGG_net(nn.Module):\n",
        "  def __init__(self, in_channels=3, num_classes=1000):\n",
        "    super(VGG_net, self).__init__()\n",
        "    self.in_channels = in_channels\n",
        "    self.conv_layers = self.create_conv_layers(VGG16)\n",
        "    self.fcs = nn.Sequential(\n",
        "        nn.Linear(512*7*7, 4096),\n",
        "        nn.ReLU(),\n",
        "        nn.Dropout(p=0.5),\n",
        "\n",
        "        nn.Linear(4096, 4096),\n",
        "        nn.ReLU(),\n",
        "        nn.Dropout(p=0.5),\n",
        "\n",
        "        nn.Linear(4096, num_classes)\n",
        "    )\n",
        "\n",
        "  def forward(self, x):\n",
        "      x = self.conv_layers(x)\n",
        "      x = x.reshape(x.shape[0], -1)\n",
        "      x = self.fcs(x)\n",
        "      return x\n",
        "\n",
        "  def create_conv_layers(self, architecture):\n",
        "    layers = []\n",
        "    in_channels = self.in_channels\n",
        "\n",
        "    for x in architecture:\n",
        "      if type(x) == int:\n",
        "        out_channels = x\n",
        "\n",
        "        layers += [nn.Conv2d(in_channels= in_channels, \n",
        "                             out_channels= out_channels,\n",
        "                             kernel_size=(3,3),\n",
        "                             stride=(1,1),\n",
        "                             padding=(1,1)),\n",
        "                   nn.ReLU()]\n",
        "        in_channels = x\n",
        "\n",
        "      elif x == 'M':\n",
        "        layers += [nn.MaxPool2d(kernel_size=(2,2), stride=(2,2))]\n",
        "\n",
        "    return nn.Sequential(*layers)"
      ],
      "metadata": {
        "id": "cHn8WbVJefvU"
      },
      "execution_count": 6,
      "outputs": []
    },
    {
      "cell_type": "code",
      "source": [
        "# Instantiate the model \n",
        "model = VGG_net()"
      ],
      "metadata": {
        "id": "UjXVKYJDhu40"
      },
      "execution_count": 7,
      "outputs": []
    },
    {
      "cell_type": "code",
      "source": [
        "# Specify device\n",
        "device = torch.device(\"cuda\" if torch.cuda.is_available() else \"cpu\")"
      ],
      "metadata": {
        "id": "ijx0VSDzvYxa"
      },
      "execution_count": 8,
      "outputs": []
    },
    {
      "cell_type": "code",
      "source": [
        "# Model summary to compare params\n",
        "from torchsummary import summary\n",
        "\n",
        "summary(model.to(device), (3,244,244))"
      ],
      "metadata": {
        "colab": {
          "base_uri": "https://localhost:8080/"
        },
        "id": "Wrix0lx4h48J",
        "outputId": "b30567f9-4f8b-4cfe-8f8a-6cd3461e5b90"
      },
      "execution_count": 9,
      "outputs": [
        {
          "output_type": "stream",
          "name": "stdout",
          "text": [
            "----------------------------------------------------------------\n",
            "        Layer (type)               Output Shape         Param #\n",
            "================================================================\n",
            "            Conv2d-1         [-1, 64, 244, 244]           1,792\n",
            "              ReLU-2         [-1, 64, 244, 244]               0\n",
            "            Conv2d-3         [-1, 64, 244, 244]          36,928\n",
            "              ReLU-4         [-1, 64, 244, 244]               0\n",
            "         MaxPool2d-5         [-1, 64, 122, 122]               0\n",
            "            Conv2d-6        [-1, 128, 122, 122]          73,856\n",
            "              ReLU-7        [-1, 128, 122, 122]               0\n",
            "            Conv2d-8        [-1, 128, 122, 122]         147,584\n",
            "              ReLU-9        [-1, 128, 122, 122]               0\n",
            "        MaxPool2d-10          [-1, 128, 61, 61]               0\n",
            "           Conv2d-11          [-1, 256, 61, 61]         295,168\n",
            "             ReLU-12          [-1, 256, 61, 61]               0\n",
            "           Conv2d-13          [-1, 256, 61, 61]         590,080\n",
            "             ReLU-14          [-1, 256, 61, 61]               0\n",
            "           Conv2d-15          [-1, 256, 61, 61]         590,080\n",
            "             ReLU-16          [-1, 256, 61, 61]               0\n",
            "        MaxPool2d-17          [-1, 256, 30, 30]               0\n",
            "           Conv2d-18          [-1, 512, 30, 30]       1,180,160\n",
            "             ReLU-19          [-1, 512, 30, 30]               0\n",
            "           Conv2d-20          [-1, 512, 30, 30]       2,359,808\n",
            "             ReLU-21          [-1, 512, 30, 30]               0\n",
            "           Conv2d-22          [-1, 512, 30, 30]       2,359,808\n",
            "             ReLU-23          [-1, 512, 30, 30]               0\n",
            "        MaxPool2d-24          [-1, 512, 15, 15]               0\n",
            "           Conv2d-25          [-1, 512, 15, 15]       2,359,808\n",
            "             ReLU-26          [-1, 512, 15, 15]               0\n",
            "           Conv2d-27          [-1, 512, 15, 15]       2,359,808\n",
            "             ReLU-28          [-1, 512, 15, 15]               0\n",
            "           Conv2d-29          [-1, 512, 15, 15]       2,359,808\n",
            "             ReLU-30          [-1, 512, 15, 15]               0\n",
            "        MaxPool2d-31            [-1, 512, 7, 7]               0\n",
            "           Linear-32                 [-1, 4096]     102,764,544\n",
            "             ReLU-33                 [-1, 4096]               0\n",
            "          Dropout-34                 [-1, 4096]               0\n",
            "           Linear-35                 [-1, 4096]      16,781,312\n",
            "             ReLU-36                 [-1, 4096]               0\n",
            "          Dropout-37                 [-1, 4096]               0\n",
            "           Linear-38                 [-1, 1000]       4,097,000\n",
            "================================================================\n",
            "Total params: 138,357,544\n",
            "Trainable params: 138,357,544\n",
            "Non-trainable params: 0\n",
            "----------------------------------------------------------------\n",
            "Input size (MB): 0.68\n",
            "Forward/backward pass size (MB): 258.32\n",
            "Params size (MB): 527.79\n",
            "Estimated Total Size (MB): 786.79\n",
            "----------------------------------------------------------------\n"
          ]
        }
      ]
    },
    {
      "cell_type": "markdown",
      "source": [
        "From the original paper, VGG-16 model should have 138 million parameters which matches with the model summary we created."
      ],
      "metadata": {
        "id": "9PTrlPMwibFS"
      }
    },
    {
      "cell_type": "code",
      "source": [
        "# Validating the model with example (1 image with shape=3x224x224)\n",
        "x = torch.randn(5, 3, 224, 224)\n",
        "model.to(device)(x.to(device)).shape"
      ],
      "metadata": {
        "colab": {
          "base_uri": "https://localhost:8080/"
        },
        "id": "ji2nU7hciI8Y",
        "outputId": "12d49ed0-b64e-443d-cb9c-1d9e6209eb7b"
      },
      "execution_count": 10,
      "outputs": [
        {
          "output_type": "execute_result",
          "data": {
            "text/plain": [
              "torch.Size([5, 1000])"
            ]
          },
          "metadata": {},
          "execution_count": 10
        }
      ]
    },
    {
      "cell_type": "markdown",
      "source": [
        "# CIFAR-10 dataset"
      ],
      "metadata": {
        "id": "S0K4AYlhpuPL"
      }
    },
    {
      "cell_type": "code",
      "source": [
        "# Instantiate the model that gives 10 outputs for cifar-10\n",
        "cifar_10_model = VGG_net(num_classes=10)"
      ],
      "metadata": {
        "id": "0z4-ABtAvGhU"
      },
      "execution_count": 107,
      "outputs": []
    },
    {
      "cell_type": "code",
      "source": [
        "# Model summary \n",
        "from torchsummary import summary\n",
        "\n",
        "summary(cifar_10_model.to(device), (3,244,244))"
      ],
      "metadata": {
        "colab": {
          "base_uri": "https://localhost:8080/"
        },
        "id": "7lFB7a1TwQCr",
        "outputId": "71abe13e-c4dc-4e32-b237-04d6fc9254eb"
      },
      "execution_count": 12,
      "outputs": [
        {
          "output_type": "stream",
          "name": "stdout",
          "text": [
            "----------------------------------------------------------------\n",
            "        Layer (type)               Output Shape         Param #\n",
            "================================================================\n",
            "            Conv2d-1         [-1, 64, 244, 244]           1,792\n",
            "              ReLU-2         [-1, 64, 244, 244]               0\n",
            "            Conv2d-3         [-1, 64, 244, 244]          36,928\n",
            "              ReLU-4         [-1, 64, 244, 244]               0\n",
            "         MaxPool2d-5         [-1, 64, 122, 122]               0\n",
            "            Conv2d-6        [-1, 128, 122, 122]          73,856\n",
            "              ReLU-7        [-1, 128, 122, 122]               0\n",
            "            Conv2d-8        [-1, 128, 122, 122]         147,584\n",
            "              ReLU-9        [-1, 128, 122, 122]               0\n",
            "        MaxPool2d-10          [-1, 128, 61, 61]               0\n",
            "           Conv2d-11          [-1, 256, 61, 61]         295,168\n",
            "             ReLU-12          [-1, 256, 61, 61]               0\n",
            "           Conv2d-13          [-1, 256, 61, 61]         590,080\n",
            "             ReLU-14          [-1, 256, 61, 61]               0\n",
            "           Conv2d-15          [-1, 256, 61, 61]         590,080\n",
            "             ReLU-16          [-1, 256, 61, 61]               0\n",
            "        MaxPool2d-17          [-1, 256, 30, 30]               0\n",
            "           Conv2d-18          [-1, 512, 30, 30]       1,180,160\n",
            "             ReLU-19          [-1, 512, 30, 30]               0\n",
            "           Conv2d-20          [-1, 512, 30, 30]       2,359,808\n",
            "             ReLU-21          [-1, 512, 30, 30]               0\n",
            "           Conv2d-22          [-1, 512, 30, 30]       2,359,808\n",
            "             ReLU-23          [-1, 512, 30, 30]               0\n",
            "        MaxPool2d-24          [-1, 512, 15, 15]               0\n",
            "           Conv2d-25          [-1, 512, 15, 15]       2,359,808\n",
            "             ReLU-26          [-1, 512, 15, 15]               0\n",
            "           Conv2d-27          [-1, 512, 15, 15]       2,359,808\n",
            "             ReLU-28          [-1, 512, 15, 15]               0\n",
            "           Conv2d-29          [-1, 512, 15, 15]       2,359,808\n",
            "             ReLU-30          [-1, 512, 15, 15]               0\n",
            "        MaxPool2d-31            [-1, 512, 7, 7]               0\n",
            "           Linear-32                 [-1, 4096]     102,764,544\n",
            "             ReLU-33                 [-1, 4096]               0\n",
            "          Dropout-34                 [-1, 4096]               0\n",
            "           Linear-35                 [-1, 4096]      16,781,312\n",
            "             ReLU-36                 [-1, 4096]               0\n",
            "          Dropout-37                 [-1, 4096]               0\n",
            "           Linear-38                   [-1, 10]          40,970\n",
            "================================================================\n",
            "Total params: 134,301,514\n",
            "Trainable params: 134,301,514\n",
            "Non-trainable params: 0\n",
            "----------------------------------------------------------------\n",
            "Input size (MB): 0.68\n",
            "Forward/backward pass size (MB): 258.31\n",
            "Params size (MB): 512.32\n",
            "Estimated Total Size (MB): 771.31\n",
            "----------------------------------------------------------------\n"
          ]
        }
      ]
    },
    {
      "cell_type": "markdown",
      "source": [
        "## Load CIFAR-10 dataset"
      ],
      "metadata": {
        "id": "ZuLiUSHcuOZU"
      }
    },
    {
      "cell_type": "code",
      "source": [
        "import torch\n",
        "import torchvision\n",
        "import torchvision.transforms as transforms\n",
        "\n",
        "# Define the transformations to apply to the CIFAR-10 data\n",
        "transform = transforms.Compose([transforms.Resize((224,224)), #<-- Resize for VGG input\n",
        "                                transforms.ToTensor(),\n",
        "                                transforms.Normalize((0.5,0.5,0.5), (0.5,0.5,0.5))])\n",
        "\n",
        "# Download and load train and test data\n",
        "train_dataset = torchvision.datasets.CIFAR10(root='./data', train=True, download=True, transform=transform)\n",
        "test_dataset = torchvision.datasets.CIFAR10(root='./data', train=False, download=True, transform=transform)"
      ],
      "metadata": {
        "colab": {
          "base_uri": "https://localhost:8080/"
        },
        "id": "k8ooMj-kpw52",
        "outputId": "7d74851e-0376-46ab-b072-e8ff19114ff2"
      },
      "execution_count": 13,
      "outputs": [
        {
          "output_type": "stream",
          "name": "stdout",
          "text": [
            "Downloading https://www.cs.toronto.edu/~kriz/cifar-10-python.tar.gz to ./data/cifar-10-python.tar.gz\n"
          ]
        },
        {
          "output_type": "stream",
          "name": "stderr",
          "text": [
            "100%|██████████| 170498071/170498071 [00:02<00:00, 69655382.05it/s]\n"
          ]
        },
        {
          "output_type": "stream",
          "name": "stdout",
          "text": [
            "Extracting ./data/cifar-10-python.tar.gz to ./data\n",
            "Files already downloaded and verified\n"
          ]
        }
      ]
    },
    {
      "cell_type": "code",
      "source": [
        "train_dataset"
      ],
      "metadata": {
        "colab": {
          "base_uri": "https://localhost:8080/"
        },
        "id": "6TnKuGSZukKG",
        "outputId": "05a095fd-ab66-4723-9368-ba909f0633a6"
      },
      "execution_count": 14,
      "outputs": [
        {
          "output_type": "execute_result",
          "data": {
            "text/plain": [
              "Dataset CIFAR10\n",
              "    Number of datapoints: 50000\n",
              "    Root location: ./data\n",
              "    Split: Train\n",
              "    StandardTransform\n",
              "Transform: Compose(\n",
              "               Resize(size=(224, 224), interpolation=bilinear, max_size=None, antialias=warn)\n",
              "               ToTensor()\n",
              "               Normalize(mean=(0.5, 0.5, 0.5), std=(0.5, 0.5, 0.5))\n",
              "           )"
            ]
          },
          "metadata": {},
          "execution_count": 14
        }
      ]
    },
    {
      "cell_type": "code",
      "source": [
        "train_dataset.classes"
      ],
      "metadata": {
        "colab": {
          "base_uri": "https://localhost:8080/"
        },
        "id": "HrF3eA5Qgm-v",
        "outputId": "2862ccb6-22df-4229-abd5-3286d2d40a50"
      },
      "execution_count": 15,
      "outputs": [
        {
          "output_type": "execute_result",
          "data": {
            "text/plain": [
              "['airplane',\n",
              " 'automobile',\n",
              " 'bird',\n",
              " 'cat',\n",
              " 'deer',\n",
              " 'dog',\n",
              " 'frog',\n",
              " 'horse',\n",
              " 'ship',\n",
              " 'truck']"
            ]
          },
          "metadata": {},
          "execution_count": 15
        }
      ]
    },
    {
      "cell_type": "code",
      "source": [
        "feature, label = train_dataset[0]\n",
        "feature.shape , label"
      ],
      "metadata": {
        "colab": {
          "base_uri": "https://localhost:8080/"
        },
        "id": "tlufVkeNutTX",
        "outputId": "236c5054-5f01-4a96-c043-dc79d4fd3f3f"
      },
      "execution_count": 16,
      "outputs": [
        {
          "output_type": "execute_result",
          "data": {
            "text/plain": [
              "(torch.Size([3, 224, 224]), 6)"
            ]
          },
          "metadata": {},
          "execution_count": 16
        }
      ]
    },
    {
      "cell_type": "code",
      "source": [
        "# Let's visualize the first image in the train_dataset\n",
        "import matplotlib.pyplot as plt\n",
        "\n",
        "# Permute the image tensor from 3x224x224 to 224x224x3\n",
        "image = torch.permute(feature, (1, 2, 0))\n",
        "\n",
        "# Display the image\n",
        "plt.imshow(image)\n",
        "print('Label: ', train_dataset.classes[label], \"(\"+str(label)+\")\")\n",
        "plt.axis('off') # To remove axis label \n",
        "plt.show()"
      ],
      "metadata": {
        "colab": {
          "base_uri": "https://localhost:8080/",
          "height": 441
        },
        "id": "zcMaglmZuzcW",
        "outputId": "ae1c2f6a-1c74-4e2d-d131-e3677f9ae1c0"
      },
      "execution_count": 17,
      "outputs": [
        {
          "output_type": "stream",
          "name": "stderr",
          "text": [
            "WARNING:matplotlib.image:Clipping input data to the valid range for imshow with RGB data ([0..1] for floats or [0..255] for integers).\n"
          ]
        },
        {
          "output_type": "stream",
          "name": "stdout",
          "text": [
            "Label:  frog (6)\n"
          ]
        },
        {
          "output_type": "display_data",
          "data": {
            "text/plain": [
              "<Figure size 640x480 with 1 Axes>"
            ],
            "image/png": "[encoded data removed]"
          },
          "metadata": {}
        }
      ]
    },
    {
      "cell_type": "markdown",
      "source": [
        "## DataLoader for train-test Dataset"
      ],
      "metadata": {
        "id": "9urW7NrJxTEk"
      }
    },
    {
      "cell_type": "code",
      "source": [
        "from torch.utils.data import random_split\n",
        "val_size = 5000\n",
        "train_size = len(train_dataset) - val_size \n",
        "\n",
        "train_ds, val_ds = random_split(train_dataset, [train_size, val_size])\n",
        "len(train_ds), len(val_ds)"
      ],
      "metadata": {
        "colab": {
          "base_uri": "https://localhost:8080/"
        },
        "id": "1s_CNvDWh6nH",
        "outputId": "3c361f01-fe93-4466-b73d-52e4d9beca1d"
      },
      "execution_count": 18,
      "outputs": [
        {
          "output_type": "execute_result",
          "data": {
            "text/plain": [
              "(45000, 5000)"
            ]
          },
          "metadata": {},
          "execution_count": 18
        }
      ]
    },
    {
      "cell_type": "code",
      "source": [
        "# Load the above split data\n",
        "train_loader = torch.utils.data.DataLoader(train_ds, batch_size=16, shuffle=True)\n",
        "val_loader = torch.utils.data.DataLoader(val_ds, batch_size=16, shuffle=True)"
      ],
      "metadata": {
        "id": "xlm16vbUxSZ5"
      },
      "execution_count": 19,
      "outputs": []
    },
    {
      "cell_type": "code",
      "source": [
        "test_loader = torch.utils.data.DataLoader(test_dataset, batch_size=16, shuffle=False)"
      ],
      "metadata": {
        "id": "RELeIe55jZzm"
      },
      "execution_count": 20,
      "outputs": []
    },
    {
      "cell_type": "code",
      "source": [
        "# Example from train_loader\n",
        "train_iterate = iter(train_loader)\n",
        "features, labels = next(train_iterate)\n",
        "features.shape"
      ],
      "metadata": {
        "colab": {
          "base_uri": "https://localhost:8080/"
        },
        "id": "Xftbc0VAvLli",
        "outputId": "f7712ea5-a862-4783-c315-b2367368a2aa"
      },
      "execution_count": 21,
      "outputs": [
        {
          "output_type": "execute_result",
          "data": {
            "text/plain": [
              "torch.Size([16, 3, 224, 224])"
            ]
          },
          "metadata": {},
          "execution_count": 21
        }
      ]
    },
    {
      "cell_type": "markdown",
      "source": [
        "Thus, there are 16 images in a  batch with shape 3x224x224. "
      ],
      "metadata": {
        "id": "qsTMtGBPk9PV"
      }
    },
    {
      "cell_type": "markdown",
      "source": [
        "# Overfit data\n",
        "- Dataset contains only 2 images of 5 class -- 10 images in total"
      ],
      "metadata": {
        "id": "glWq4a4AQFWl"
      }
    },
    {
      "cell_type": "code",
      "source": [
        "# New list to store final dataset\n",
        "custom_dataset = [train_dataset[1], train_dataset[2], train_dataset[3], train_dataset[4], train_dataset[5], train_dataset[6], train_dataset[7], train_dataset[10], train_dataset[11], train_dataset[13]]"
      ],
      "metadata": {
        "id": "-EFmrC80RfHI"
      },
      "execution_count": 94,
      "outputs": []
    },
    {
      "cell_type": "code",
      "source": [
        "feature_custom, label_custom = custom_dataset[9]"
      ],
      "metadata": {
        "id": "fIaGbpunRjfF"
      },
      "execution_count": 97,
      "outputs": []
    },
    {
      "cell_type": "code",
      "source": [
        "feature_custom, label_custom"
      ],
      "metadata": {
        "colab": {
          "base_uri": "https://localhost:8080/"
        },
        "id": "3l8Om2hgXRVA",
        "outputId": "a75be728-4cbf-42fb-bf9e-945a691ed822"
      },
      "execution_count": 98,
      "outputs": [
        {
          "output_type": "execute_result",
          "data": {
            "text/plain": [
              "(tensor([[[-0.8667, -0.8667, -0.8667,  ..., -0.8510, -0.8510, -0.8510],\n",
              "          [-0.8667, -0.8667, -0.8667,  ..., -0.8510, -0.8510, -0.8510],\n",
              "          [-0.8667, -0.8667, -0.8667,  ..., -0.8510, -0.8510, -0.8510],\n",
              "          ...,\n",
              "          [ 0.6471,  0.6471,  0.6471,  ..., -0.7490, -0.7490, -0.7490],\n",
              "          [ 0.6471,  0.6471,  0.6471,  ..., -0.7490, -0.7490, -0.7490],\n",
              "          [ 0.6471,  0.6471,  0.6471,  ..., -0.7490, -0.7490, -0.7490]],\n",
              " \n",
              "         [[-0.9765, -0.9765, -0.9765,  ..., -0.9294, -0.9294, -0.9294],\n",
              "          [-0.9765, -0.9765, -0.9765,  ..., -0.9294, -0.9294, -0.9294],\n",
              "          [-0.9765, -0.9765, -0.9765,  ..., -0.9294, -0.9294, -0.9294],\n",
              "          ...,\n",
              "          [ 0.6314,  0.6314,  0.6314,  ..., -0.8196, -0.8196, -0.8196],\n",
              "          [ 0.6314,  0.6314,  0.6314,  ..., -0.8196, -0.8196, -0.8196],\n",
              "          [ 0.6314,  0.6314,  0.6314,  ..., -0.8196, -0.8196, -0.8196]],\n",
              " \n",
              "         [[-0.9843, -0.9843, -0.9843,  ..., -0.9451, -0.9451, -0.9451],\n",
              "          [-0.9843, -0.9843, -0.9843,  ..., -0.9451, -0.9451, -0.9451],\n",
              "          [-0.9843, -0.9843, -0.9843,  ..., -0.9451, -0.9451, -0.9451],\n",
              "          ...,\n",
              "          [ 0.7490,  0.7490,  0.7490,  ..., -0.8745, -0.8745, -0.8745],\n",
              "          [ 0.7490,  0.7490,  0.7490,  ..., -0.8745, -0.8745, -0.8745],\n",
              "          [ 0.7490,  0.7490,  0.7490,  ..., -0.8745, -0.8745, -0.8745]]]),\n",
              " 2)"
            ]
          },
          "metadata": {},
          "execution_count": 98
        }
      ]
    },
    {
      "cell_type": "code",
      "source": [
        "# Let's visualize the first image in the custom_dataset\n",
        "import matplotlib.pyplot as plt\n",
        "\n",
        "# Permute the image tensor from 3x224x224 to 224x224x3\n",
        "image = torch.permute(feature_custom, (1, 2, 0))\n",
        "\n",
        "# Display the image\n",
        "plt.imshow(image)\n",
        "print('Label: ', train_dataset.classes[label_custom], \"(\"+str(label_custom)+\")\")\n",
        "plt.axis('off') # To remove axis label \n",
        "plt.show()"
      ],
      "metadata": {
        "colab": {
          "base_uri": "https://localhost:8080/",
          "height": 441
        },
        "id": "VOQzXEceW97N",
        "outputId": "abd19475-acef-400a-8898-2dd735b97528"
      },
      "execution_count": 99,
      "outputs": [
        {
          "output_type": "stream",
          "name": "stderr",
          "text": [
            "WARNING:matplotlib.image:Clipping input data to the valid range for imshow with RGB data ([0..1] for floats or [0..255] for integers).\n"
          ]
        },
        {
          "output_type": "stream",
          "name": "stdout",
          "text": [
            "Label:  bird (2)\n"
          ]
        },
        {
          "output_type": "display_data",
          "data": {
            "text/plain": [
              "<Figure size 640x480 with 1 Axes>"
            ],
            "image/png": "[encoded data removed]"
          },
          "metadata": {}
        }
      ]
    },
    {
      "cell_type": "code",
      "source": [
        "from torch.utils.data import Dataset\n",
        "\n",
        "# Define a custom dataset class\n",
        "class CustomDataset(Dataset):\n",
        "    def __init__(self, data):\n",
        "        self.data = data\n",
        "\n",
        "    def __len__(self):\n",
        "        return len(self.data)\n",
        "\n",
        "    def __getitem__(self, index):\n",
        "        image, label = self.data[index]\n",
        "        return image, label"
      ],
      "metadata": {
        "id": "80psCHP4ZWej"
      },
      "execution_count": 100,
      "outputs": []
    },
    {
      "cell_type": "code",
      "source": [
        "# Create an instance of the custom dataset\n",
        "overfit = CustomDataset(custom_dataset)"
      ],
      "metadata": {
        "id": "FKcku7_AZae-"
      },
      "execution_count": 101,
      "outputs": []
    },
    {
      "cell_type": "code",
      "source": [
        "# Len of overfit\n",
        "len(overfit)"
      ],
      "metadata": {
        "colab": {
          "base_uri": "https://localhost:8080/"
        },
        "id": "XaQqX67capVz",
        "outputId": "6ec47f4b-b1ac-4e3b-9ab5-406402fd831b"
      },
      "execution_count": 102,
      "outputs": [
        {
          "output_type": "execute_result",
          "data": {
            "text/plain": [
              "10"
            ]
          },
          "metadata": {},
          "execution_count": 102
        }
      ]
    },
    {
      "cell_type": "markdown",
      "source": [
        "There are 10 images in the overfit."
      ],
      "metadata": {
        "id": "SXg6PuBiayf-"
      }
    },
    {
      "cell_type": "markdown",
      "source": [
        "# Training Loop"
      ],
      "metadata": {
        "id": "_SLJCdDLmMs0"
      }
    },
    {
      "cell_type": "code",
      "source": [
        "# Compile tha model \n",
        "import torch.optim as optim\n",
        "\n",
        "# Define the optimizer\n",
        "optimizer = optim.Adam(cifar_10_model.parameters(), lr=0.001)\n",
        "\n",
        "# Define the loss function\n",
        "criterion = nn.CrossEntropyLoss()"
      ],
      "metadata": {
        "id": "57aSARDBk8Lq"
      },
      "execution_count": 105,
      "outputs": []
    },
    {
      "cell_type": "code",
      "source": [
        "cifar_10_model = cifar_10_model.to(device)"
      ],
      "metadata": {
        "id": "rMPtdYvfyWX3"
      },
      "execution_count": 108,
      "outputs": []
    },
    {
      "cell_type": "markdown",
      "source": [
        "## Overfit Dataset with batch size 1"
      ],
      "metadata": {
        "id": "Labq2sULusJt"
      }
    },
    {
      "cell_type": "code",
      "source": [
        "# Create DataLoader for overfit data\n",
        "overfit_loader = torch.utils.data.DataLoader(overfit, batch_size=1, shuffle=True)"
      ],
      "metadata": {
        "id": "dfHZmb0iXyLI"
      },
      "execution_count": 103,
      "outputs": []
    },
    {
      "cell_type": "code",
      "source": [
        "# Example checking the overfit_loader\n",
        "of_iter = iter(overfit_loader)\n",
        "of_feature, of_label = next(of_iter)\n",
        "of_feature.shape"
      ],
      "metadata": {
        "colab": {
          "base_uri": "https://localhost:8080/"
        },
        "id": "rDcpGYGVZs9g",
        "outputId": "6d9f513f-4c9a-4856-f11d-4e39cf9e329b"
      },
      "execution_count": 104,
      "outputs": [
        {
          "output_type": "execute_result",
          "data": {
            "text/plain": [
              "torch.Size([1, 3, 224, 224])"
            ]
          },
          "metadata": {},
          "execution_count": 104
        }
      ]
    },
    {
      "cell_type": "markdown",
      "source": [
        "Thus, the overfit dataset has a batch which yields 1 images with size 3x224x224."
      ],
      "metadata": {
        "id": "J_75QFrWaLvT"
      }
    },
    {
      "cell_type": "code",
      "source": [
        "# Overfitting in overfit dataset i.e 10 images\n",
        "\n",
        "history = [] # To plot the history for epoch vs. loss\n",
        "\n",
        "for epoch in range(100):\n",
        "\n",
        "  cifar_10_model.train()\n",
        "\n",
        "  running_loss = 0.0\n",
        "  running_corrects = 0\n",
        "\n",
        "  # Iterate over the training data in batches\n",
        "  for inputs, labels in overfit_loader:  \n",
        "      # Move the inputs and labels to the selected device\n",
        "      inputs = inputs.to(device)\n",
        "      labels = labels.to(device)\n",
        "\n",
        "      # Forward pass\n",
        "      outputs = cifar_10_model(inputs)\n",
        "      torch.cuda.empty_cache() # Limit GPU memory growth\n",
        "\n",
        "      # Calculate the loss\n",
        "      loss = criterion(outputs, labels)\n",
        "\n",
        "      # Backward pass and optimization\n",
        "      optimizer.zero_grad()\n",
        "      loss.backward()\n",
        "      optimizer.step()\n",
        "\n",
        "      torch.cuda.empty_cache() # Limit GPU memory growth\n",
        "\n",
        "      # Update running loss and accuracy\n",
        "      running_loss += loss.item() * inputs.size(0)\n",
        "      _, preds = torch.max(outputs, 1)\n",
        "      running_corrects += torch.sum(preds == labels.data)\n",
        "\n",
        "  # Calculate epoch loss and accuracy for training data\n",
        "  epoch_loss = running_loss / len(overfit)\n",
        "  epoch_acc = running_corrects.double() / len(overfit)\n",
        "  history.append(epoch_loss)\n",
        "\n",
        "  # Print the loss and accuracy for overfit data\n",
        "  print(f\"Epoch [{epoch+1}/{10}], \"\n",
        "        f\"Overfit Loss: {epoch_loss:.4f}, Overfit Accuracy: {epoch_acc:.4f}\")\n"
      ],
      "metadata": {
        "colab": {
          "base_uri": "https://localhost:8080/"
        },
        "id": "W0zQFxZetIjW",
        "outputId": "47f4a614-61ce-4aef-9e46-a5c1a66a7597"
      },
      "execution_count": 109,
      "outputs": [
        {
          "output_type": "stream",
          "name": "stdout",
          "text": [
            "Epoch [1/10], Overfit Loss: 2.3035, Overfit Accuracy: 0.2000\n",
            "Epoch [2/10], Overfit Loss: 2.3029, Overfit Accuracy: 0.2000\n",
            "Epoch [3/10], Overfit Loss: 2.3003, Overfit Accuracy: 0.2000\n",
            "Epoch [4/10], Overfit Loss: 2.3007, Overfit Accuracy: 0.2000\n",
            "Epoch [5/10], Overfit Loss: 2.3019, Overfit Accuracy: 0.1000\n",
            "Epoch [6/10], Overfit Loss: 2.3022, Overfit Accuracy: 0.1000\n",
            "Epoch [7/10], Overfit Loss: 2.3008, Overfit Accuracy: 0.1000\n",
            "Epoch [8/10], Overfit Loss: 2.3013, Overfit Accuracy: 0.1000\n",
            "Epoch [9/10], Overfit Loss: 2.3020, Overfit Accuracy: 0.1000\n",
            "Epoch [10/10], Overfit Loss: 2.3018, Overfit Accuracy: 0.1000\n",
            "Epoch [11/10], Overfit Loss: 2.3009, Overfit Accuracy: 0.2000\n",
            "Epoch [12/10], Overfit Loss: 2.3029, Overfit Accuracy: 0.2000\n",
            "Epoch [13/10], Overfit Loss: 2.3011, Overfit Accuracy: 0.2000\n",
            "Epoch [14/10], Overfit Loss: 2.3004, Overfit Accuracy: 0.2000\n",
            "Epoch [15/10], Overfit Loss: 2.3020, Overfit Accuracy: 0.2000\n",
            "Epoch [16/10], Overfit Loss: 2.3010, Overfit Accuracy: 0.2000\n",
            "Epoch [17/10], Overfit Loss: 2.3029, Overfit Accuracy: 0.2000\n",
            "Epoch [18/10], Overfit Loss: 2.3001, Overfit Accuracy: 0.1000\n",
            "Epoch [19/10], Overfit Loss: 2.3041, Overfit Accuracy: 0.2000\n",
            "Epoch [20/10], Overfit Loss: 2.3023, Overfit Accuracy: 0.1000\n",
            "Epoch [21/10], Overfit Loss: 2.3023, Overfit Accuracy: 0.2000\n",
            "Epoch [22/10], Overfit Loss: 2.3003, Overfit Accuracy: 0.2000\n",
            "Epoch [23/10], Overfit Loss: 2.3013, Overfit Accuracy: 0.2000\n",
            "Epoch [24/10], Overfit Loss: 2.3029, Overfit Accuracy: 0.2000\n",
            "Epoch [25/10], Overfit Loss: 2.2994, Overfit Accuracy: 0.2000\n",
            "Epoch [26/10], Overfit Loss: 2.3014, Overfit Accuracy: 0.2000\n",
            "Epoch [27/10], Overfit Loss: 2.3011, Overfit Accuracy: 0.2000\n",
            "Epoch [28/10], Overfit Loss: 2.3002, Overfit Accuracy: 0.2000\n",
            "Epoch [29/10], Overfit Loss: 2.3033, Overfit Accuracy: 0.1000\n",
            "Epoch [30/10], Overfit Loss: 2.3000, Overfit Accuracy: 0.2000\n",
            "Epoch [31/10], Overfit Loss: 2.3016, Overfit Accuracy: 0.2000\n",
            "Epoch [32/10], Overfit Loss: 2.3006, Overfit Accuracy: 0.2000\n",
            "Epoch [33/10], Overfit Loss: 2.3013, Overfit Accuracy: 0.2000\n",
            "Epoch [34/10], Overfit Loss: 2.3003, Overfit Accuracy: 0.2000\n",
            "Epoch [35/10], Overfit Loss: 2.3023, Overfit Accuracy: 0.2000\n",
            "Epoch [36/10], Overfit Loss: 2.3008, Overfit Accuracy: 0.1000\n",
            "Epoch [37/10], Overfit Loss: 2.3028, Overfit Accuracy: 0.1000\n",
            "Epoch [38/10], Overfit Loss: 2.3006, Overfit Accuracy: 0.2000\n",
            "Epoch [39/10], Overfit Loss: 2.3016, Overfit Accuracy: 0.2000\n",
            "Epoch [40/10], Overfit Loss: 2.3008, Overfit Accuracy: 0.2000\n",
            "Epoch [41/10], Overfit Loss: 2.3021, Overfit Accuracy: 0.2000\n",
            "Epoch [42/10], Overfit Loss: 2.3015, Overfit Accuracy: 0.1000\n",
            "Epoch [43/10], Overfit Loss: 2.3018, Overfit Accuracy: 0.2000\n",
            "Epoch [44/10], Overfit Loss: 2.3013, Overfit Accuracy: 0.2000\n",
            "Epoch [45/10], Overfit Loss: 2.3025, Overfit Accuracy: 0.2000\n",
            "Epoch [46/10], Overfit Loss: 2.3030, Overfit Accuracy: 0.2000\n",
            "Epoch [47/10], Overfit Loss: 2.3010, Overfit Accuracy: 0.1000\n",
            "Epoch [48/10], Overfit Loss: 2.3031, Overfit Accuracy: 0.1000\n",
            "Epoch [49/10], Overfit Loss: 2.2997, Overfit Accuracy: 0.4000\n",
            "Epoch [50/10], Overfit Loss: 2.3015, Overfit Accuracy: 0.2000\n",
            "Epoch [51/10], Overfit Loss: 2.3000, Overfit Accuracy: 0.1000\n",
            "Epoch [52/10], Overfit Loss: 2.3013, Overfit Accuracy: 0.2000\n",
            "Epoch [53/10], Overfit Loss: 2.3026, Overfit Accuracy: 0.2000\n",
            "Epoch [54/10], Overfit Loss: 2.3019, Overfit Accuracy: 0.2000\n",
            "Epoch [55/10], Overfit Loss: 2.3030, Overfit Accuracy: 0.2000\n",
            "Epoch [56/10], Overfit Loss: 2.3037, Overfit Accuracy: 0.2000\n",
            "Epoch [57/10], Overfit Loss: 2.3008, Overfit Accuracy: 0.2000\n",
            "Epoch [58/10], Overfit Loss: 2.3008, Overfit Accuracy: 0.2000\n",
            "Epoch [59/10], Overfit Loss: 2.3015, Overfit Accuracy: 0.2000\n",
            "Epoch [60/10], Overfit Loss: 2.3028, Overfit Accuracy: 0.2000\n",
            "Epoch [61/10], Overfit Loss: 2.3015, Overfit Accuracy: 0.2000\n",
            "Epoch [62/10], Overfit Loss: 2.3026, Overfit Accuracy: 0.2000\n",
            "Epoch [63/10], Overfit Loss: 2.2997, Overfit Accuracy: 0.2000\n",
            "Epoch [64/10], Overfit Loss: 2.3004, Overfit Accuracy: 0.2000\n",
            "Epoch [65/10], Overfit Loss: 2.3023, Overfit Accuracy: 0.1000\n",
            "Epoch [66/10], Overfit Loss: 2.3010, Overfit Accuracy: 0.2000\n",
            "Epoch [67/10], Overfit Loss: 2.3001, Overfit Accuracy: 0.2000\n",
            "Epoch [68/10], Overfit Loss: 2.3028, Overfit Accuracy: 0.2000\n",
            "Epoch [69/10], Overfit Loss: 2.3009, Overfit Accuracy: 0.2000\n",
            "Epoch [70/10], Overfit Loss: 2.3015, Overfit Accuracy: 0.2000\n",
            "Epoch [71/10], Overfit Loss: 2.3025, Overfit Accuracy: 0.0000\n",
            "Epoch [72/10], Overfit Loss: 2.3018, Overfit Accuracy: 0.1000\n",
            "Epoch [73/10], Overfit Loss: 2.3014, Overfit Accuracy: 0.2000\n",
            "Epoch [74/10], Overfit Loss: 2.3025, Overfit Accuracy: 0.2000\n",
            "Epoch [75/10], Overfit Loss: 2.3047, Overfit Accuracy: 0.2000\n",
            "Epoch [76/10], Overfit Loss: 2.3018, Overfit Accuracy: 0.2000\n",
            "Epoch [77/10], Overfit Loss: 2.3018, Overfit Accuracy: 0.1000\n",
            "Epoch [78/10], Overfit Loss: 2.3004, Overfit Accuracy: 0.2000\n",
            "Epoch [79/10], Overfit Loss: 2.3023, Overfit Accuracy: 0.2000\n",
            "Epoch [80/10], Overfit Loss: 2.3021, Overfit Accuracy: 0.2000\n",
            "Epoch [81/10], Overfit Loss: 2.3015, Overfit Accuracy: 0.2000\n",
            "Epoch [82/10], Overfit Loss: 2.3015, Overfit Accuracy: 0.1000\n",
            "Epoch [83/10], Overfit Loss: 2.3014, Overfit Accuracy: 0.2000\n",
            "Epoch [84/10], Overfit Loss: 2.3017, Overfit Accuracy: 0.2000\n",
            "Epoch [85/10], Overfit Loss: 2.2998, Overfit Accuracy: 0.2000\n",
            "Epoch [86/10], Overfit Loss: 2.3010, Overfit Accuracy: 0.2000\n",
            "Epoch [87/10], Overfit Loss: 2.3020, Overfit Accuracy: 0.2000\n",
            "Epoch [88/10], Overfit Loss: 2.3000, Overfit Accuracy: 0.2000\n",
            "Epoch [89/10], Overfit Loss: 2.3018, Overfit Accuracy: 0.2000\n",
            "Epoch [90/10], Overfit Loss: 2.3033, Overfit Accuracy: 0.2000\n",
            "Epoch [91/10], Overfit Loss: 2.3026, Overfit Accuracy: 0.2000\n",
            "Epoch [92/10], Overfit Loss: 2.3011, Overfit Accuracy: 0.2000\n",
            "Epoch [93/10], Overfit Loss: 2.3031, Overfit Accuracy: 0.1000\n",
            "Epoch [94/10], Overfit Loss: 2.3026, Overfit Accuracy: 0.2000\n",
            "Epoch [95/10], Overfit Loss: 2.3026, Overfit Accuracy: 0.2000\n",
            "Epoch [96/10], Overfit Loss: 2.3023, Overfit Accuracy: 0.2000\n",
            "Epoch [97/10], Overfit Loss: 2.2994, Overfit Accuracy: 0.2000\n",
            "Epoch [98/10], Overfit Loss: 2.3016, Overfit Accuracy: 0.2000\n",
            "Epoch [99/10], Overfit Loss: 2.3027, Overfit Accuracy: 0.2000\n",
            "Epoch [100/10], Overfit Loss: 2.3001, Overfit Accuracy: 0.2000\n"
          ]
        }
      ]
    },
    {
      "cell_type": "code",
      "source": [
        "import matplotlib.pyplot as plt\n",
        "epochs = range(1, len(history)+1)\n",
        "\n",
        "# Plot losses\n",
        "plt.plot(epochs, history)\n",
        "plt.xlabel(\"Epochs\")\n",
        "plt.ylabel(\"Losses\")\n",
        "plt.title(\"Training Loss\")\n",
        "plt.show()"
      ],
      "metadata": {
        "colab": {
          "base_uri": "https://localhost:8080/",
          "height": 472
        },
        "id": "kI9Tig0VdxCl",
        "outputId": "24b81378-7a95-43e4-8ec1-658346244c51"
      },
      "execution_count": 110,
      "outputs": [
        {
          "output_type": "display_data",
          "data": {
            "text/plain": [
              "<Figure size 640x480 with 1 Axes>"
            ],
            "image/png": "[encoded data removed]"
          },
          "metadata": {}
        }
      ]
    },
    {
      "cell_type": "code",
      "source": [
        "correct = 0\n",
        "total = 0\n",
        "\n",
        "with torch.no_grad(): # Disabling gradient calculation, since testing doesnot require weight update\n",
        "    cifar_10_model.eval() # Set the model to evaluation mode\n",
        "\n",
        "    for inputs, labels in overfit_loader:\n",
        "      # Move the inputs and labels to the selected device\n",
        "        inputs = inputs.to(device)\n",
        "        labels = labels.to(device)\n",
        "\n",
        "        # Forward pass \n",
        "        outputs = cifar_10_model(inputs)\n",
        "        _, predicted = torch.max(outputs.data, 1)\n",
        "\n",
        "        total += labels.size(0)\n",
        "        correct += (predicted == labels).sum().item()\n",
        "\n",
        "accuracy = 100 * correct / total\n",
        "print(f\"Test Accuracy: {accuracy:.2f}%\")\n"
      ],
      "metadata": {
        "colab": {
          "base_uri": "https://localhost:8080/"
        },
        "id": "F5lZ7GxVuZqC",
        "outputId": "1f6413f4-a3a4-4d89-b487-4924ccc09fba"
      },
      "execution_count": 111,
      "outputs": [
        {
          "output_type": "stream",
          "name": "stdout",
          "text": [
            "Test Accuracy: 20.00%\n"
          ]
        }
      ]
    },
    {
      "cell_type": "code",
      "source": [
        "# Set the model to evaluation mode\n",
        "model.eval()\n",
        "\n",
        "# Iterate over the data loader\n",
        "for images, labels in overfit_loader:\n",
        "\n",
        "    images = images.to(device)\n",
        "    labels = labels.to(device)\n",
        "    # Forward pass\n",
        "    outputs = cifar_10_model(images)\n",
        "    _, predicted_indices = torch.topk(outputs, k=5, dim=1)\n",
        "    \n",
        "    # Print the true label and the top 5 predicted class indices\n",
        "    print(f\"True Label: {labels[0]}\")\n",
        "    print(\"Top 5 Predicted Class Indices:\")\n",
        "    for i, idx in enumerate(predicted_indices[0]):\n",
        "        print(f\"{i+1}. {idx.item()}\")\n",
        "    print(\"--------------------\")"
      ],
      "metadata": {
        "colab": {
          "base_uri": "https://localhost:8080/"
        },
        "id": "Dn9cnegahIrF",
        "outputId": "08363427-ca58-410a-c75d-7587725c6f90"
      },
      "execution_count": 112,
      "outputs": [
        {
          "output_type": "stream",
          "name": "stdout",
          "text": [
            "True Label: 7\n",
            "Top 5 Predicted Class Indices:\n",
            "1. 2\n",
            "2. 5\n",
            "3. 8\n",
            "4. 9\n",
            "5. 1\n",
            "--------------------\n",
            "True Label: 4\n",
            "Top 5 Predicted Class Indices:\n",
            "1. 2\n",
            "2. 5\n",
            "3. 8\n",
            "4. 9\n",
            "5. 1\n",
            "--------------------\n",
            "True Label: 2\n",
            "Top 5 Predicted Class Indices:\n",
            "1. 2\n",
            "2. 5\n",
            "3. 8\n",
            "4. 9\n",
            "5. 1\n",
            "--------------------\n",
            "True Label: 2\n",
            "Top 5 Predicted Class Indices:\n",
            "1. 2\n",
            "2. 5\n",
            "3. 8\n",
            "4. 9\n",
            "5. 1\n",
            "--------------------\n",
            "True Label: 9\n",
            "Top 5 Predicted Class Indices:\n",
            "1. 2\n",
            "2. 5\n",
            "3. 8\n",
            "4. 9\n",
            "5. 1\n",
            "--------------------\n",
            "True Label: 1\n",
            "Top 5 Predicted Class Indices:\n",
            "1. 2\n",
            "2. 5\n",
            "3. 8\n",
            "4. 9\n",
            "5. 1\n",
            "--------------------\n",
            "True Label: 1\n",
            "Top 5 Predicted Class Indices:\n",
            "1. 2\n",
            "2. 5\n",
            "3. 8\n",
            "4. 9\n",
            "5. 1\n",
            "--------------------\n",
            "True Label: 4\n",
            "Top 5 Predicted Class Indices:\n",
            "1. 2\n",
            "2. 5\n",
            "3. 8\n",
            "4. 9\n",
            "5. 1\n",
            "--------------------\n",
            "True Label: 9\n",
            "Top 5 Predicted Class Indices:\n",
            "1. 2\n",
            "2. 5\n",
            "3. 8\n",
            "4. 9\n",
            "5. 1\n",
            "--------------------\n",
            "True Label: 7\n",
            "Top 5 Predicted Class Indices:\n",
            "1. 2\n",
            "2. 5\n",
            "3. 8\n",
            "4. 9\n",
            "5. 1\n",
            "--------------------\n"
          ]
        }
      ]
    },
    {
      "cell_type": "markdown",
      "source": [
        "**Note:** predicted_indices[0] is used in the code because the batch size is 1, and it allows us to access the predicted class indices for the first (and only) image in the batch. If the batch size is greater than 1, you would iterate over predicted_indices directly."
      ],
      "metadata": {
        "id": "i7bWfE1jo4Df"
      }
    },
    {
      "cell_type": "markdown",
      "source": [
        "```\n",
        "# Example with batch size 2 and k = 3\n",
        "predicted_indices = torch.tensor([[1, 3, 2], [0, 4, 1]])\n",
        "\n",
        "print(predicted_indices)\n",
        "# Output:\n",
        "# tensor([[1, 3, 2],\n",
        "#         [0, 4, 1]])\n",
        "\n",
        "```\n",
        "\n",
        "In this example, predicted_indices has a shape of (2, 3) because the batch size is 2, and we are predicting the top 3 class indices for each image. The first row corresponds to the predicted class indices for the first image, and the second row corresponds to the predicted class indices for the second image."
      ],
      "metadata": {
        "id": "EUP58MbtqUZo"
      }
    },
    {
      "cell_type": "markdown",
      "source": [
        "## Train Dataset with batch size 16"
      ],
      "metadata": {
        "id": "OCL3dghruwLa"
      }
    },
    {
      "cell_type": "code",
      "source": [
        "import torch\n",
        "torch.cuda.empty_cache()"
      ],
      "metadata": {
        "id": "xGkh40sMyR6M"
      },
      "execution_count": 113,
      "outputs": []
    },
    {
      "cell_type": "code",
      "source": [
        "num_epochs = 3 # For less computation\n",
        "\n",
        "for epoch in range(num_epochs):\n",
        "    cifar_10_model.train()  # Set the model to training mode\n",
        "\n",
        "    running_loss = 0.0\n",
        "    running_corrects = 0\n",
        "\n",
        "    # Iterate over the training data in batches\n",
        "    for inputs, labels in train_loader:  \n",
        "        # Move the inputs and labels to the selected device\n",
        "        inputs = inputs.to(device)\n",
        "        labels = labels.to(device)\n",
        "\n",
        "        # Forward pass\n",
        "        outputs = cifar_10_model(inputs)\n",
        "\n",
        "        torch.cuda.empty_cache() # Limit GPU memory growth\n",
        "\n",
        "        # Calculate the loss\n",
        "        loss = criterion(outputs, labels)\n",
        "\n",
        "        # Backward pass and optimization\n",
        "        optimizer.zero_grad()\n",
        "        loss.backward()\n",
        "        optimizer.step()\n",
        "\n",
        "        torch.cuda.empty_cache() # Limit GPU memory growth\n",
        "\n",
        "        # Update running loss and accuracy\n",
        "        running_loss += loss.item() * inputs.size(0)\n",
        "        _, preds = torch.max(outputs, 1) # the maximum value and the index of that maximum value along dimension 1\n",
        "        running_corrects += torch.sum(preds == labels.data) # labels.data gives access to underlying labels tensor\n",
        "\n",
        "    # Calculate epoch loss and accuracy for training data\n",
        "    epoch_loss = running_loss / train_size\n",
        "    epoch_acc = running_corrects.double() / train_size\n",
        "\n",
        "    # Print the loss and accuracy for training and validation data\n",
        "    print(f\"Epoch [{epoch+1}/{num_epochs}], \"\n",
        "          f\"Train Loss: {epoch_loss:.4f}, Train Accuracy: {epoch_acc:.4f}\")\n"
      ],
      "metadata": {
        "colab": {
          "base_uri": "https://localhost:8080/"
        },
        "id": "Tt78_MGToFBl",
        "outputId": "4d076f0f-c0e3-4e31-eaf2-40b6eb36d05c"
      },
      "execution_count": 114,
      "outputs": [
        {
          "output_type": "stream",
          "name": "stdout",
          "text": [
            "Epoch [1/3], Train Loss: 2.3026, Train Accuracy: 0.0998\n",
            "Epoch [2/3], Train Loss: 2.3027, Train Accuracy: 0.1014\n",
            "Epoch [3/3], Train Loss: 2.3026, Train Accuracy: 0.1001\n"
          ]
        }
      ]
    },
    {
      "cell_type": "code",
      "source": [
        "correct = 0\n",
        "total = 0\n",
        "\n",
        "with torch.no_grad(): # Disabling gradient calculation, since testing doesnot require weight update\n",
        "    cifar_10_model.eval() # Set the model to evaluation mode\n",
        "\n",
        "    for inputs, labels in test_loader:\n",
        "      # Move the inputs and labels to the selected device\n",
        "        inputs = inputs.to(device)\n",
        "        labels = labels.to(device)\n",
        "\n",
        "        # Forward pass \n",
        "        outputs = cifar_10_model(inputs)\n",
        "        _, predicted = torch.max(outputs, 1)\n",
        "\n",
        "        total += labels.size(0)\n",
        "        correct += (predicted == labels).sum().item()\n",
        "\n",
        "accuracy = 100 * correct / total\n",
        "print(f\"Test Accuracy: {accuracy:.2f}%\")\n"
      ],
      "metadata": {
        "colab": {
          "base_uri": "https://localhost:8080/"
        },
        "id": "Gw6Ebic4-bvl",
        "outputId": "9969c119-079b-4bdb-fc19-a9526d62d726"
      },
      "execution_count": 121,
      "outputs": [
        {
          "output_type": "stream",
          "name": "stdout",
          "text": [
            "Test Accuracy: 10.00%\n"
          ]
        }
      ]
    }
  ]
}