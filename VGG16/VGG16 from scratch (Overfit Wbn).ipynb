{
  "nbformat": 4,
  "nbformat_minor": 0,
  "metadata": {
    "colab": {
      "provenance": [],
      "gpuType": "T4"
    },
    "kernelspec": {
      "name": "python3",
      "display_name": "Python 3"
    },
    "language_info": {
      "name": "python"
    },
    "accelerator": "GPU"
  },
  "cells": [
    {
      "cell_type": "markdown",
      "source": [
        "# VGG-16 Architecture"
      ],
      "metadata": {
        "id": "PlFRnGcJtRqh"
      }
    },
    {
      "cell_type": "code",
      "execution_count": 1,
      "metadata": {
        "id": "4RNR04V1CDIJ"
      },
      "outputs": [],
      "source": [
        "# Imports\n",
        "import torch\n",
        "import torch.nn as nn"
      ]
    },
    {
      "cell_type": "code",
      "source": [
        "# VGG-16 architecture - convolution layer\n",
        "VGG16 = [64,64, 'M', 128, 128, 'M', 256, 256, 256, 'M', 512, 512, 512, 'M', 512, 512, 512, 'M']"
      ],
      "metadata": {
        "id": "YGIPUnhSdoOs"
      },
      "execution_count": 2,
      "outputs": []
    },
    {
      "cell_type": "code",
      "source": [
        "# Create VGG-16 architecture\n",
        "class VGG_net(nn.Module):\n",
        "  def __init__(self, in_channels=3, num_classes=1000):\n",
        "    super(VGG_net, self).__init__()\n",
        "    self.in_channels = in_channels\n",
        "    self.conv_layers = self.create_conv_layers(VGG16)\n",
        "    self.fcs = nn.Sequential(nn.Linear(512*7*7, 4096),\n",
        "                             nn.Dropout(p=0.5),\n",
        "                             nn.ReLU(),\n",
        "                             nn.Linear(4096, 4096),\n",
        "                             nn.Dropout(p=0.5),\n",
        "                             nn.ReLU(),\n",
        "                             nn.Linear(4096, num_classes))\n",
        "\n",
        "  def forward(self, x):\n",
        "      x = self.conv_layers(x)\n",
        "      x = x.reshape(x.shape[0], -1)\n",
        "      x = self.fcs(x)\n",
        "      return x\n",
        "\n",
        "  def create_conv_layers(self, architecture):\n",
        "    layers = []\n",
        "    in_channels = self.in_channels\n",
        "\n",
        "    for x in architecture:\n",
        "      if type(x) == int:\n",
        "        out_channels = x\n",
        "\n",
        "        layers += [nn.Conv2d(in_channels= in_channels,\n",
        "                             out_channels= out_channels,\n",
        "                             kernel_size=(3,3),\n",
        "                             stride=(1,1),\n",
        "                             padding=(1,1)),\n",
        "                   nn.BatchNorm2d(x),\n",
        "                   nn.ReLU()]\n",
        "        in_channels = x\n",
        "\n",
        "      elif x == 'M':\n",
        "        layers += [nn.MaxPool2d(kernel_size=(2,2), stride=(2,2))]\n",
        "\n",
        "    return nn.Sequential(*layers)"
      ],
      "metadata": {
        "id": "cHn8WbVJefvU"
      },
      "execution_count": 3,
      "outputs": []
    },
    {
      "cell_type": "code",
      "source": [
        "# Instantiate the model\n",
        "model = VGG_net()"
      ],
      "metadata": {
        "id": "UjXVKYJDhu40"
      },
      "execution_count": 4,
      "outputs": []
    },
    {
      "cell_type": "code",
      "source": [
        "# Specify device\n",
        "device = torch.device(\"cuda\" if torch.cuda.is_available() else \"cpu\")"
      ],
      "metadata": {
        "id": "ijx0VSDzvYxa"
      },
      "execution_count": 5,
      "outputs": []
    },
    {
      "cell_type": "code",
      "source": [
        "# Model summary to compare params\n",
        "from torchsummary import summary\n",
        "\n",
        "summary(model.to(device), (3,224,224))"
      ],
      "metadata": {
        "colab": {
          "base_uri": "https://localhost:8080/"
        },
        "id": "Wrix0lx4h48J",
        "outputId": "7eb45f4f-623e-4e24-bec9-98c23d19184f"
      },
      "execution_count": 6,
      "outputs": [
        {
          "output_type": "stream",
          "name": "stdout",
          "text": [
            "----------------------------------------------------------------\n",
            "        Layer (type)               Output Shape         Param #\n",
            "================================================================\n",
            "            Conv2d-1         [-1, 64, 224, 224]           1,792\n",
            "       BatchNorm2d-2         [-1, 64, 224, 224]             128\n",
            "              ReLU-3         [-1, 64, 224, 224]               0\n",
            "            Conv2d-4         [-1, 64, 224, 224]          36,928\n",
            "       BatchNorm2d-5         [-1, 64, 224, 224]             128\n",
            "              ReLU-6         [-1, 64, 224, 224]               0\n",
            "         MaxPool2d-7         [-1, 64, 112, 112]               0\n",
            "            Conv2d-8        [-1, 128, 112, 112]          73,856\n",
            "       BatchNorm2d-9        [-1, 128, 112, 112]             256\n",
            "             ReLU-10        [-1, 128, 112, 112]               0\n",
            "           Conv2d-11        [-1, 128, 112, 112]         147,584\n",
            "      BatchNorm2d-12        [-1, 128, 112, 112]             256\n",
            "             ReLU-13        [-1, 128, 112, 112]               0\n",
            "        MaxPool2d-14          [-1, 128, 56, 56]               0\n",
            "           Conv2d-15          [-1, 256, 56, 56]         295,168\n",
            "      BatchNorm2d-16          [-1, 256, 56, 56]             512\n",
            "             ReLU-17          [-1, 256, 56, 56]               0\n",
            "           Conv2d-18          [-1, 256, 56, 56]         590,080\n",
            "      BatchNorm2d-19          [-1, 256, 56, 56]             512\n",
            "             ReLU-20          [-1, 256, 56, 56]               0\n",
            "           Conv2d-21          [-1, 256, 56, 56]         590,080\n",
            "      BatchNorm2d-22          [-1, 256, 56, 56]             512\n",
            "             ReLU-23          [-1, 256, 56, 56]               0\n",
            "        MaxPool2d-24          [-1, 256, 28, 28]               0\n",
            "           Conv2d-25          [-1, 512, 28, 28]       1,180,160\n",
            "      BatchNorm2d-26          [-1, 512, 28, 28]           1,024\n",
            "             ReLU-27          [-1, 512, 28, 28]               0\n",
            "           Conv2d-28          [-1, 512, 28, 28]       2,359,808\n",
            "      BatchNorm2d-29          [-1, 512, 28, 28]           1,024\n",
            "             ReLU-30          [-1, 512, 28, 28]               0\n",
            "           Conv2d-31          [-1, 512, 28, 28]       2,359,808\n",
            "      BatchNorm2d-32          [-1, 512, 28, 28]           1,024\n",
            "             ReLU-33          [-1, 512, 28, 28]               0\n",
            "        MaxPool2d-34          [-1, 512, 14, 14]               0\n",
            "           Conv2d-35          [-1, 512, 14, 14]       2,359,808\n",
            "      BatchNorm2d-36          [-1, 512, 14, 14]           1,024\n",
            "             ReLU-37          [-1, 512, 14, 14]               0\n",
            "           Conv2d-38          [-1, 512, 14, 14]       2,359,808\n",
            "      BatchNorm2d-39          [-1, 512, 14, 14]           1,024\n",
            "             ReLU-40          [-1, 512, 14, 14]               0\n",
            "           Conv2d-41          [-1, 512, 14, 14]       2,359,808\n",
            "      BatchNorm2d-42          [-1, 512, 14, 14]           1,024\n",
            "             ReLU-43          [-1, 512, 14, 14]               0\n",
            "        MaxPool2d-44            [-1, 512, 7, 7]               0\n",
            "           Linear-45                 [-1, 4096]     102,764,544\n",
            "          Dropout-46                 [-1, 4096]               0\n",
            "             ReLU-47                 [-1, 4096]               0\n",
            "           Linear-48                 [-1, 4096]      16,781,312\n",
            "          Dropout-49                 [-1, 4096]               0\n",
            "             ReLU-50                 [-1, 4096]               0\n",
            "           Linear-51                 [-1, 1000]       4,097,000\n",
            "================================================================\n",
            "Total params: 138,365,992\n",
            "Trainable params: 138,365,992\n",
            "Non-trainable params: 0\n",
            "----------------------------------------------------------------\n",
            "Input size (MB): 0.57\n",
            "Forward/backward pass size (MB): 321.95\n",
            "Params size (MB): 527.82\n",
            "Estimated Total Size (MB): 850.35\n",
            "----------------------------------------------------------------\n"
          ]
        }
      ]
    },
    {
      "cell_type": "markdown",
      "source": [
        "From the original paper, VGG-16 model should have 138 million parameters which matches with the model summary we created."
      ],
      "metadata": {
        "id": "9PTrlPMwibFS"
      }
    },
    {
      "cell_type": "code",
      "source": [
        "# Validating the model with example (1 image with shape=3x224x224)\n",
        "x = torch.randn(5, 3, 224, 224)\n",
        "model.to(device)(x.to(device)).shape"
      ],
      "metadata": {
        "colab": {
          "base_uri": "https://localhost:8080/"
        },
        "id": "ji2nU7hciI8Y",
        "outputId": "f7e4c8f9-dc6d-428a-90e3-7391b4aa095c"
      },
      "execution_count": 7,
      "outputs": [
        {
          "output_type": "execute_result",
          "data": {
            "text/plain": [
              "torch.Size([5, 1000])"
            ]
          },
          "metadata": {},
          "execution_count": 7
        }
      ]
    },
    {
      "cell_type": "markdown",
      "source": [
        "# CIFAR-10 dataset"
      ],
      "metadata": {
        "id": "S0K4AYlhpuPL"
      }
    },
    {
      "cell_type": "code",
      "source": [
        "# Instantiate the model that gives 10 outputs for cifar-10\n",
        "cifar_10_model = VGG_net(num_classes=10)"
      ],
      "metadata": {
        "id": "0z4-ABtAvGhU"
      },
      "execution_count": 8,
      "outputs": []
    },
    {
      "cell_type": "code",
      "source": [
        "# Model summary\n",
        "from torchsummary import summary\n",
        "\n",
        "summary(cifar_10_model.to(device), (3,224,224))"
      ],
      "metadata": {
        "colab": {
          "base_uri": "https://localhost:8080/"
        },
        "id": "7lFB7a1TwQCr",
        "outputId": "d9294286-b453-4a1c-ae75-958b2749a207"
      },
      "execution_count": 9,
      "outputs": [
        {
          "output_type": "stream",
          "name": "stdout",
          "text": [
            "----------------------------------------------------------------\n",
            "        Layer (type)               Output Shape         Param #\n",
            "================================================================\n",
            "            Conv2d-1         [-1, 64, 224, 224]           1,792\n",
            "       BatchNorm2d-2         [-1, 64, 224, 224]             128\n",
            "              ReLU-3         [-1, 64, 224, 224]               0\n",
            "            Conv2d-4         [-1, 64, 224, 224]          36,928\n",
            "       BatchNorm2d-5         [-1, 64, 224, 224]             128\n",
            "              ReLU-6         [-1, 64, 224, 224]               0\n",
            "         MaxPool2d-7         [-1, 64, 112, 112]               0\n",
            "            Conv2d-8        [-1, 128, 112, 112]          73,856\n",
            "       BatchNorm2d-9        [-1, 128, 112, 112]             256\n",
            "             ReLU-10        [-1, 128, 112, 112]               0\n",
            "           Conv2d-11        [-1, 128, 112, 112]         147,584\n",
            "      BatchNorm2d-12        [-1, 128, 112, 112]             256\n",
            "             ReLU-13        [-1, 128, 112, 112]               0\n",
            "        MaxPool2d-14          [-1, 128, 56, 56]               0\n",
            "           Conv2d-15          [-1, 256, 56, 56]         295,168\n",
            "      BatchNorm2d-16          [-1, 256, 56, 56]             512\n",
            "             ReLU-17          [-1, 256, 56, 56]               0\n",
            "           Conv2d-18          [-1, 256, 56, 56]         590,080\n",
            "      BatchNorm2d-19          [-1, 256, 56, 56]             512\n",
            "             ReLU-20          [-1, 256, 56, 56]               0\n",
            "           Conv2d-21          [-1, 256, 56, 56]         590,080\n",
            "      BatchNorm2d-22          [-1, 256, 56, 56]             512\n",
            "             ReLU-23          [-1, 256, 56, 56]               0\n",
            "        MaxPool2d-24          [-1, 256, 28, 28]               0\n",
            "           Conv2d-25          [-1, 512, 28, 28]       1,180,160\n",
            "      BatchNorm2d-26          [-1, 512, 28, 28]           1,024\n",
            "             ReLU-27          [-1, 512, 28, 28]               0\n",
            "           Conv2d-28          [-1, 512, 28, 28]       2,359,808\n",
            "      BatchNorm2d-29          [-1, 512, 28, 28]           1,024\n",
            "             ReLU-30          [-1, 512, 28, 28]               0\n",
            "           Conv2d-31          [-1, 512, 28, 28]       2,359,808\n",
            "      BatchNorm2d-32          [-1, 512, 28, 28]           1,024\n",
            "             ReLU-33          [-1, 512, 28, 28]               0\n",
            "        MaxPool2d-34          [-1, 512, 14, 14]               0\n",
            "           Conv2d-35          [-1, 512, 14, 14]       2,359,808\n",
            "      BatchNorm2d-36          [-1, 512, 14, 14]           1,024\n",
            "             ReLU-37          [-1, 512, 14, 14]               0\n",
            "           Conv2d-38          [-1, 512, 14, 14]       2,359,808\n",
            "      BatchNorm2d-39          [-1, 512, 14, 14]           1,024\n",
            "             ReLU-40          [-1, 512, 14, 14]               0\n",
            "           Conv2d-41          [-1, 512, 14, 14]       2,359,808\n",
            "      BatchNorm2d-42          [-1, 512, 14, 14]           1,024\n",
            "             ReLU-43          [-1, 512, 14, 14]               0\n",
            "        MaxPool2d-44            [-1, 512, 7, 7]               0\n",
            "           Linear-45                 [-1, 4096]     102,764,544\n",
            "          Dropout-46                 [-1, 4096]               0\n",
            "             ReLU-47                 [-1, 4096]               0\n",
            "           Linear-48                 [-1, 4096]      16,781,312\n",
            "          Dropout-49                 [-1, 4096]               0\n",
            "             ReLU-50                 [-1, 4096]               0\n",
            "           Linear-51                   [-1, 10]          40,970\n",
            "================================================================\n",
            "Total params: 134,309,962\n",
            "Trainable params: 134,309,962\n",
            "Non-trainable params: 0\n",
            "----------------------------------------------------------------\n",
            "Input size (MB): 0.57\n",
            "Forward/backward pass size (MB): 321.94\n",
            "Params size (MB): 512.35\n",
            "Estimated Total Size (MB): 834.87\n",
            "----------------------------------------------------------------\n"
          ]
        }
      ]
    },
    {
      "cell_type": "markdown",
      "source": [
        "## Load CIFAR-10 dataset"
      ],
      "metadata": {
        "id": "ZuLiUSHcuOZU"
      }
    },
    {
      "cell_type": "code",
      "source": [
        "import torch\n",
        "import torchvision\n",
        "import torchvision.transforms as transforms\n",
        "\n",
        "# Define the transformations to apply to the CIFAR-10 data\n",
        "transform = transforms.Compose([transforms.Resize((224,224)), #<-- Resize for VGG input\n",
        "                                transforms.ToTensor(),\n",
        "                                transforms.Normalize((0.5,0.5,0.5), (0.5,0.5,0.5))])\n",
        "\n",
        "# Download and load train and test data\n",
        "train_dataset = torchvision.datasets.CIFAR10(root='./data', train=True, download=True, transform=transform)\n",
        "test_dataset = torchvision.datasets.CIFAR10(root='./data', train=False, download=True, transform=transform)"
      ],
      "metadata": {
        "colab": {
          "base_uri": "https://localhost:8080/"
        },
        "id": "k8ooMj-kpw52",
        "outputId": "ddf4eb76-1676-419f-c404-c9906ec547d6"
      },
      "execution_count": 10,
      "outputs": [
        {
          "output_type": "stream",
          "name": "stdout",
          "text": [
            "Downloading https://www.cs.toronto.edu/~kriz/cifar-10-python.tar.gz to ./data/cifar-10-python.tar.gz\n"
          ]
        },
        {
          "output_type": "stream",
          "name": "stderr",
          "text": [
            "100%|██████████| 170498071/170498071 [00:06<00:00, 26954459.82it/s]\n"
          ]
        },
        {
          "output_type": "stream",
          "name": "stdout",
          "text": [
            "Extracting ./data/cifar-10-python.tar.gz to ./data\n",
            "Files already downloaded and verified\n"
          ]
        }
      ]
    },
    {
      "cell_type": "code",
      "source": [
        "train_dataset"
      ],
      "metadata": {
        "colab": {
          "base_uri": "https://localhost:8080/"
        },
        "id": "6TnKuGSZukKG",
        "outputId": "0082da12-ef64-4b89-9995-89cc50edd441"
      },
      "execution_count": 11,
      "outputs": [
        {
          "output_type": "execute_result",
          "data": {
            "text/plain": [
              "Dataset CIFAR10\n",
              "    Number of datapoints: 50000\n",
              "    Root location: ./data\n",
              "    Split: Train\n",
              "    StandardTransform\n",
              "Transform: Compose(\n",
              "               Resize(size=(224, 224), interpolation=bilinear, max_size=None, antialias=warn)\n",
              "               ToTensor()\n",
              "               Normalize(mean=(0.5, 0.5, 0.5), std=(0.5, 0.5, 0.5))\n",
              "           )"
            ]
          },
          "metadata": {},
          "execution_count": 11
        }
      ]
    },
    {
      "cell_type": "code",
      "source": [
        "train_dataset.classes"
      ],
      "metadata": {
        "colab": {
          "base_uri": "https://localhost:8080/"
        },
        "id": "HrF3eA5Qgm-v",
        "outputId": "a81306d4-3362-4e89-91e7-bfc01c285dd8"
      },
      "execution_count": 12,
      "outputs": [
        {
          "output_type": "execute_result",
          "data": {
            "text/plain": [
              "['airplane',\n",
              " 'automobile',\n",
              " 'bird',\n",
              " 'cat',\n",
              " 'deer',\n",
              " 'dog',\n",
              " 'frog',\n",
              " 'horse',\n",
              " 'ship',\n",
              " 'truck']"
            ]
          },
          "metadata": {},
          "execution_count": 12
        }
      ]
    },
    {
      "cell_type": "code",
      "source": [
        "test_dataset.classes"
      ],
      "metadata": {
        "colab": {
          "base_uri": "https://localhost:8080/"
        },
        "id": "WA6gW-RCD-ND",
        "outputId": "b76dae99-4b3d-4ba1-96b9-0929bb944152"
      },
      "execution_count": 13,
      "outputs": [
        {
          "output_type": "execute_result",
          "data": {
            "text/plain": [
              "['airplane',\n",
              " 'automobile',\n",
              " 'bird',\n",
              " 'cat',\n",
              " 'deer',\n",
              " 'dog',\n",
              " 'frog',\n",
              " 'horse',\n",
              " 'ship',\n",
              " 'truck']"
            ]
          },
          "metadata": {},
          "execution_count": 13
        }
      ]
    },
    {
      "cell_type": "code",
      "source": [
        "feature, label = train_dataset[0]\n",
        "feature.shape , label"
      ],
      "metadata": {
        "colab": {
          "base_uri": "https://localhost:8080/"
        },
        "id": "tlufVkeNutTX",
        "outputId": "df184920-2687-464e-fe0f-b22adfac528c"
      },
      "execution_count": 14,
      "outputs": [
        {
          "output_type": "execute_result",
          "data": {
            "text/plain": [
              "(torch.Size([3, 224, 224]), 6)"
            ]
          },
          "metadata": {},
          "execution_count": 14
        }
      ]
    },
    {
      "cell_type": "code",
      "source": [
        "# Let's visualize the first image in the train_dataset\n",
        "import matplotlib.pyplot as plt\n",
        "\n",
        "# Permute the image tensor from 3x224x224 to 224x224x3\n",
        "image = torch.permute(feature, (1, 2, 0))\n",
        "\n",
        "# Display the image\n",
        "plt.imshow(image)\n",
        "print('Label: ', train_dataset.classes[label], \"(\"+str(label)+\")\")\n",
        "plt.axis('off') # To remove axis label\n",
        "plt.show()"
      ],
      "metadata": {
        "colab": {
          "base_uri": "https://localhost:8080/",
          "height": 0
        },
        "id": "zcMaglmZuzcW",
        "outputId": "b98dcb3e-ffd8-4b1b-86d5-690232b6274a"
      },
      "execution_count": 15,
      "outputs": [
        {
          "output_type": "stream",
          "name": "stderr",
          "text": [
            "WARNING:matplotlib.image:Clipping input data to the valid range for imshow with RGB data ([0..1] for floats or [0..255] for integers).\n"
          ]
        },
        {
          "output_type": "stream",
          "name": "stdout",
          "text": [
            "Label:  frog (6)\n"
          ]
        },
        {
          "output_type": "display_data",
          "data": {
            "text/plain": [
              "<Figure size 640x480 with 1 Axes>"
            ],
            "image/png": "[encoded data removed]"
          },
          "metadata": {}
        }
      ]
    },
    {
      "cell_type": "markdown",
      "source": [
        "## DataLoader for train-test Dataset"
      ],
      "metadata": {
        "id": "9urW7NrJxTEk"
      }
    },
    {
      "cell_type": "code",
      "source": [
        "from torch.utils.data import random_split\n",
        "val_size = 5000\n",
        "train_size = len(train_dataset) - val_size\n",
        "\n",
        "train_ds, val_ds = random_split(train_dataset, [train_size, val_size])\n",
        "len(train_ds), len(val_ds)"
      ],
      "metadata": {
        "colab": {
          "base_uri": "https://localhost:8080/"
        },
        "id": "1s_CNvDWh6nH",
        "outputId": "10cd2a19-a644-48e7-a7b1-10a0f9f2a2db"
      },
      "execution_count": 16,
      "outputs": [
        {
          "output_type": "execute_result",
          "data": {
            "text/plain": [
              "(45000, 5000)"
            ]
          },
          "metadata": {},
          "execution_count": 16
        }
      ]
    },
    {
      "cell_type": "code",
      "source": [
        "# Load the above split data\n",
        "train_loader = torch.utils.data.DataLoader(train_ds, batch_size=64, shuffle=True)\n",
        "val_loader = torch.utils.data.DataLoader(val_ds, batch_size=64, shuffle=True)"
      ],
      "metadata": {
        "id": "xlm16vbUxSZ5"
      },
      "execution_count": 17,
      "outputs": []
    },
    {
      "cell_type": "code",
      "source": [
        "test_loader = torch.utils.data.DataLoader(test_dataset, batch_size=64, shuffle=False)"
      ],
      "metadata": {
        "id": "RELeIe55jZzm"
      },
      "execution_count": 18,
      "outputs": []
    },
    {
      "cell_type": "code",
      "source": [
        "# Example from train_loader\n",
        "train_iterate = iter(train_loader)\n",
        "features, labels = next(train_iterate)\n",
        "features.shape"
      ],
      "metadata": {
        "colab": {
          "base_uri": "https://localhost:8080/"
        },
        "id": "Xftbc0VAvLli",
        "outputId": "a8444e87-9538-471b-ce0a-749d7363c048"
      },
      "execution_count": 19,
      "outputs": [
        {
          "output_type": "execute_result",
          "data": {
            "text/plain": [
              "torch.Size([64, 3, 224, 224])"
            ]
          },
          "metadata": {},
          "execution_count": 19
        }
      ]
    },
    {
      "cell_type": "markdown",
      "source": [
        "Thus, there are 64 images in a  batch with shape 3x224x224."
      ],
      "metadata": {
        "id": "qsTMtGBPk9PV"
      }
    },
    {
      "cell_type": "markdown",
      "source": [
        "# Overfit data\n",
        "- Dataset contains only 2 images of 5 class -- 10 images in total"
      ],
      "metadata": {
        "id": "glWq4a4AQFWl"
      }
    },
    {
      "cell_type": "code",
      "source": [
        "# New list to store final dataset\n",
        "custom_dataset = [train_dataset[1], train_dataset[2], train_dataset[3], train_dataset[4], train_dataset[5], train_dataset[6], train_dataset[7], train_dataset[10], train_dataset[11], train_dataset[13]]"
      ],
      "metadata": {
        "id": "-EFmrC80RfHI"
      },
      "execution_count": 20,
      "outputs": []
    },
    {
      "cell_type": "code",
      "source": [
        "feature_custom, label_custom = custom_dataset[9]"
      ],
      "metadata": {
        "id": "fIaGbpunRjfF"
      },
      "execution_count": 21,
      "outputs": []
    },
    {
      "cell_type": "code",
      "source": [
        "feature_custom, label_custom"
      ],
      "metadata": {
        "colab": {
          "base_uri": "https://localhost:8080/"
        },
        "id": "3l8Om2hgXRVA",
        "outputId": "20de6548-e9a9-4db2-d518-b1cb208133f5"
      },
      "execution_count": 22,
      "outputs": [
        {
          "output_type": "execute_result",
          "data": {
            "text/plain": [
              "(tensor([[[-0.8667, -0.8667, -0.8667,  ..., -0.8510, -0.8510, -0.8510],\n",
              "          [-0.8667, -0.8667, -0.8667,  ..., -0.8510, -0.8510, -0.8510],\n",
              "          [-0.8667, -0.8667, -0.8667,  ..., -0.8510, -0.8510, -0.8510],\n",
              "          ...,\n",
              "          [ 0.6471,  0.6471,  0.6471,  ..., -0.7490, -0.7490, -0.7490],\n",
              "          [ 0.6471,  0.6471,  0.6471,  ..., -0.7490, -0.7490, -0.7490],\n",
              "          [ 0.6471,  0.6471,  0.6471,  ..., -0.7490, -0.7490, -0.7490]],\n",
              " \n",
              "         [[-0.9765, -0.9765, -0.9765,  ..., -0.9294, -0.9294, -0.9294],\n",
              "          [-0.9765, -0.9765, -0.9765,  ..., -0.9294, -0.9294, -0.9294],\n",
              "          [-0.9765, -0.9765, -0.9765,  ..., -0.9294, -0.9294, -0.9294],\n",
              "          ...,\n",
              "          [ 0.6314,  0.6314,  0.6314,  ..., -0.8196, -0.8196, -0.8196],\n",
              "          [ 0.6314,  0.6314,  0.6314,  ..., -0.8196, -0.8196, -0.8196],\n",
              "          [ 0.6314,  0.6314,  0.6314,  ..., -0.8196, -0.8196, -0.8196]],\n",
              " \n",
              "         [[-0.9843, -0.9843, -0.9843,  ..., -0.9451, -0.9451, -0.9451],\n",
              "          [-0.9843, -0.9843, -0.9843,  ..., -0.9451, -0.9451, -0.9451],\n",
              "          [-0.9843, -0.9843, -0.9843,  ..., -0.9451, -0.9451, -0.9451],\n",
              "          ...,\n",
              "          [ 0.7490,  0.7490,  0.7490,  ..., -0.8745, -0.8745, -0.8745],\n",
              "          [ 0.7490,  0.7490,  0.7490,  ..., -0.8745, -0.8745, -0.8745],\n",
              "          [ 0.7490,  0.7490,  0.7490,  ..., -0.8745, -0.8745, -0.8745]]]),\n",
              " 2)"
            ]
          },
          "metadata": {},
          "execution_count": 22
        }
      ]
    },
    {
      "cell_type": "code",
      "source": [
        "# Let's visualize the first image in the custom_dataset\n",
        "import matplotlib.pyplot as plt\n",
        "\n",
        "# Permute the image tensor from 3x224x224 to 224x224x3\n",
        "image = torch.permute(feature_custom, (1, 2, 0))\n",
        "\n",
        "# Display the image\n",
        "plt.imshow(image)\n",
        "print('Label: ', train_dataset.classes[label_custom], \"(\"+str(label_custom)+\")\")\n",
        "plt.axis('off') # To remove axis label\n",
        "plt.show()"
      ],
      "metadata": {
        "colab": {
          "base_uri": "https://localhost:8080/",
          "height": 0
        },
        "id": "VOQzXEceW97N",
        "outputId": "e522bd54-eb25-4aa6-90da-55319ec7cf21"
      },
      "execution_count": 23,
      "outputs": [
        {
          "output_type": "stream",
          "name": "stderr",
          "text": [
            "WARNING:matplotlib.image:Clipping input data to the valid range for imshow with RGB data ([0..1] for floats or [0..255] for integers).\n"
          ]
        },
        {
          "output_type": "stream",
          "name": "stdout",
          "text": [
            "Label:  bird (2)\n"
          ]
        },
        {
          "output_type": "display_data",
          "data": {
            "text/plain": [
              "<Figure size 640x480 with 1 Axes>"
            ],
            "image/png": "[encoded data removed]"
          },
          "metadata": {}
        }
      ]
    },
    {
      "cell_type": "code",
      "source": [
        "from torch.utils.data import Dataset\n",
        "\n",
        "# Define a custom dataset class\n",
        "class CustomDataset(Dataset):\n",
        "    def __init__(self, data):\n",
        "        self.data = data\n",
        "\n",
        "    def __len__(self):\n",
        "        return len(self.data)\n",
        "\n",
        "    def __getitem__(self, index):\n",
        "        image, label = self.data[index]\n",
        "        return image, label"
      ],
      "metadata": {
        "id": "80psCHP4ZWej"
      },
      "execution_count": 24,
      "outputs": []
    },
    {
      "cell_type": "code",
      "source": [
        "# Create an instance of the custom dataset\n",
        "overfit = CustomDataset(custom_dataset)"
      ],
      "metadata": {
        "id": "FKcku7_AZae-"
      },
      "execution_count": 25,
      "outputs": []
    },
    {
      "cell_type": "code",
      "source": [
        "# Len of overfit\n",
        "len(overfit)"
      ],
      "metadata": {
        "colab": {
          "base_uri": "https://localhost:8080/"
        },
        "id": "XaQqX67capVz",
        "outputId": "a4ba87ae-2618-4002-b969-0a44e1900d84"
      },
      "execution_count": 26,
      "outputs": [
        {
          "output_type": "execute_result",
          "data": {
            "text/plain": [
              "10"
            ]
          },
          "metadata": {},
          "execution_count": 26
        }
      ]
    },
    {
      "cell_type": "markdown",
      "source": [
        "There are 10 images in the overfit."
      ],
      "metadata": {
        "id": "SXg6PuBiayf-"
      }
    },
    {
      "cell_type": "markdown",
      "source": [
        "# Training Loop"
      ],
      "metadata": {
        "id": "_SLJCdDLmMs0"
      }
    },
    {
      "cell_type": "code",
      "source": [
        "# Compile tha model\n",
        "import torch.optim as optim\n",
        "\n",
        "# Define the optimizer\n",
        "optimizer = optim.Adam(cifar_10_model.parameters(), lr=0.001)\n",
        "\n",
        "# Define the loss function\n",
        "criterion = nn.CrossEntropyLoss()"
      ],
      "metadata": {
        "id": "57aSARDBk8Lq"
      },
      "execution_count": 27,
      "outputs": []
    },
    {
      "cell_type": "code",
      "source": [
        "cifar_10_model = cifar_10_model.to(device)"
      ],
      "metadata": {
        "id": "rMPtdYvfyWX3"
      },
      "execution_count": 28,
      "outputs": []
    },
    {
      "cell_type": "markdown",
      "source": [
        "## Overfit Dataset with batch size 1"
      ],
      "metadata": {
        "id": "Labq2sULusJt"
      }
    },
    {
      "cell_type": "code",
      "source": [
        "# Create DataLoader for overfit data\n",
        "overfit_loader = torch.utils.data.DataLoader(overfit, batch_size=1, shuffle=True)"
      ],
      "metadata": {
        "id": "dfHZmb0iXyLI"
      },
      "execution_count": 29,
      "outputs": []
    },
    {
      "cell_type": "code",
      "source": [
        "# Example checking the overfit_loader\n",
        "of_iter = iter(overfit_loader)\n",
        "of_feature, of_label = next(of_iter)\n",
        "of_feature.shape"
      ],
      "metadata": {
        "colab": {
          "base_uri": "https://localhost:8080/"
        },
        "id": "rDcpGYGVZs9g",
        "outputId": "1d1089ee-bf3f-4106-87f2-957fdad86754"
      },
      "execution_count": 30,
      "outputs": [
        {
          "output_type": "execute_result",
          "data": {
            "text/plain": [
              "torch.Size([1, 3, 224, 224])"
            ]
          },
          "metadata": {},
          "execution_count": 30
        }
      ]
    },
    {
      "cell_type": "markdown",
      "source": [
        "Thus, the overfit dataset has a batch which yields 1 images with size 3x224x224."
      ],
      "metadata": {
        "id": "J_75QFrWaLvT"
      }
    },
    {
      "cell_type": "code",
      "source": [
        "# Overfitting in overfit dataset i.e 10 images\n",
        "\n",
        "history_loss = [] # To plot the history for epoch vs. loss\n",
        "history_acc = [] # To plot the epoch vs. accuracy\n",
        "\n",
        "for epoch in range(100):\n",
        "\n",
        "  cifar_10_model.train()\n",
        "\n",
        "  running_loss = 0.0\n",
        "  running_corrects = 0\n",
        "\n",
        "  # Iterate over the training data in batches\n",
        "  for inputs, labels in overfit_loader:\n",
        "      # Move the inputs and labels to the selected device\n",
        "      inputs = inputs.to(device)\n",
        "      labels = labels.to(device)\n",
        "\n",
        "      # Forward pass\n",
        "      outputs = cifar_10_model(inputs)\n",
        "      torch.cuda.empty_cache() # Limit GPU memory growth\n",
        "\n",
        "      # Calculate the loss\n",
        "      loss = criterion(outputs, labels)\n",
        "\n",
        "      # Backward pass and optimization\n",
        "      optimizer.zero_grad()\n",
        "      loss.backward()\n",
        "      optimizer.step()\n",
        "\n",
        "      torch.cuda.empty_cache() # Limit GPU memory growth\n",
        "\n",
        "      # Update running loss and accuracy\n",
        "      running_loss += loss.item() * inputs.size(0)\n",
        "      _, preds = torch.max(outputs, 1)\n",
        "      running_corrects += torch.sum(preds == labels.data)\n",
        "\n",
        "  # Calculate epoch loss and accuracy for training data\n",
        "  epoch_loss = running_loss / len(overfit)\n",
        "  epoch_acc = running_corrects.double() / len(overfit)\n",
        "  history_loss.append(epoch_loss)\n",
        "  history_acc.append(epoch_acc)\n",
        "\n",
        "  # Print the loss and accuracy for overfit data\n",
        "  print(f\"Epoch [{epoch+1}/{10}], \"\n",
        "        f\"Overfit Loss: {epoch_loss:.4f}, Overfit Accuracy: {epoch_acc:.4f}\")\n"
      ],
      "metadata": {
        "colab": {
          "base_uri": "https://localhost:8080/"
        },
        "id": "W0zQFxZetIjW",
        "outputId": "ef833707-ddad-4574-c8e8-78f2eef8a778"
      },
      "execution_count": 31,
      "outputs": [
        {
          "output_type": "stream",
          "name": "stdout",
          "text": [
            "Epoch [1/10], Overfit Loss: 72.0188, Overfit Accuracy: 0.1000\n",
            "Epoch [2/10], Overfit Loss: 98.8239, Overfit Accuracy: 0.1000\n",
            "Epoch [3/10], Overfit Loss: 31.7423, Overfit Accuracy: 0.0000\n",
            "Epoch [4/10], Overfit Loss: 13.0138, Overfit Accuracy: 0.5000\n",
            "Epoch [5/10], Overfit Loss: 23.6879, Overfit Accuracy: 0.5000\n",
            "Epoch [6/10], Overfit Loss: 36.4632, Overfit Accuracy: 0.3000\n",
            "Epoch [7/10], Overfit Loss: 14.8673, Overfit Accuracy: 0.5000\n",
            "Epoch [8/10], Overfit Loss: 7.8213, Overfit Accuracy: 0.8000\n",
            "Epoch [9/10], Overfit Loss: 1.8801, Overfit Accuracy: 0.9000\n",
            "Epoch [10/10], Overfit Loss: 2.2281, Overfit Accuracy: 0.7000\n",
            "Epoch [11/10], Overfit Loss: 0.0278, Overfit Accuracy: 1.0000\n",
            "Epoch [12/10], Overfit Loss: 1.2917, Overfit Accuracy: 0.9000\n",
            "Epoch [13/10], Overfit Loss: 8.1887, Overfit Accuracy: 0.7000\n",
            "Epoch [14/10], Overfit Loss: 28.9589, Overfit Accuracy: 0.7000\n",
            "Epoch [15/10], Overfit Loss: 42.1326, Overfit Accuracy: 0.5000\n",
            "Epoch [16/10], Overfit Loss: 73.0546, Overfit Accuracy: 0.2000\n",
            "Epoch [17/10], Overfit Loss: 34.4625, Overfit Accuracy: 0.0000\n",
            "Epoch [18/10], Overfit Loss: 15.1038, Overfit Accuracy: 0.2000\n",
            "Epoch [19/10], Overfit Loss: 12.6744, Overfit Accuracy: 0.3000\n",
            "Epoch [20/10], Overfit Loss: 2.3999, Overfit Accuracy: 0.7000\n",
            "Epoch [21/10], Overfit Loss: 4.6683, Overfit Accuracy: 0.5000\n",
            "Epoch [22/10], Overfit Loss: 4.2111, Overfit Accuracy: 0.7000\n",
            "Epoch [23/10], Overfit Loss: 2.6376, Overfit Accuracy: 0.7000\n",
            "Epoch [24/10], Overfit Loss: 0.6395, Overfit Accuracy: 0.8000\n",
            "Epoch [25/10], Overfit Loss: 0.9774, Overfit Accuracy: 0.7000\n",
            "Epoch [26/10], Overfit Loss: 1.7150, Overfit Accuracy: 0.8000\n",
            "Epoch [27/10], Overfit Loss: 1.8217, Overfit Accuracy: 0.7000\n",
            "Epoch [28/10], Overfit Loss: 4.6858, Overfit Accuracy: 0.9000\n",
            "Epoch [29/10], Overfit Loss: 1.6799, Overfit Accuracy: 0.7000\n",
            "Epoch [30/10], Overfit Loss: 2.7049, Overfit Accuracy: 0.8000\n",
            "Epoch [31/10], Overfit Loss: 0.3105, Overfit Accuracy: 0.8000\n",
            "Epoch [32/10], Overfit Loss: 0.0000, Overfit Accuracy: 1.0000\n",
            "Epoch [33/10], Overfit Loss: 0.9769, Overfit Accuracy: 0.9000\n",
            "Epoch [34/10], Overfit Loss: 5.9311, Overfit Accuracy: 0.7000\n",
            "Epoch [35/10], Overfit Loss: 18.0236, Overfit Accuracy: 0.2000\n",
            "Epoch [36/10], Overfit Loss: 2.5858, Overfit Accuracy: 0.6000\n",
            "Epoch [37/10], Overfit Loss: 4.4129, Overfit Accuracy: 0.7000\n",
            "Epoch [38/10], Overfit Loss: 3.2809, Overfit Accuracy: 0.7000\n",
            "Epoch [39/10], Overfit Loss: 2.2859, Overfit Accuracy: 0.8000\n",
            "Epoch [40/10], Overfit Loss: 2.1248, Overfit Accuracy: 0.8000\n",
            "Epoch [41/10], Overfit Loss: 2.1160, Overfit Accuracy: 0.8000\n",
            "Epoch [42/10], Overfit Loss: 0.6000, Overfit Accuracy: 0.9000\n",
            "Epoch [43/10], Overfit Loss: 1.2720, Overfit Accuracy: 0.8000\n",
            "Epoch [44/10], Overfit Loss: 1.4254, Overfit Accuracy: 0.8000\n",
            "Epoch [45/10], Overfit Loss: 0.2292, Overfit Accuracy: 0.9000\n",
            "Epoch [46/10], Overfit Loss: 0.5968, Overfit Accuracy: 0.9000\n",
            "Epoch [47/10], Overfit Loss: 3.2460, Overfit Accuracy: 0.9000\n",
            "Epoch [48/10], Overfit Loss: 0.2127, Overfit Accuracy: 0.9000\n",
            "Epoch [49/10], Overfit Loss: 0.0010, Overfit Accuracy: 1.0000\n",
            "Epoch [50/10], Overfit Loss: 0.6061, Overfit Accuracy: 0.9000\n",
            "Epoch [51/10], Overfit Loss: 0.3650, Overfit Accuracy: 0.9000\n",
            "Epoch [52/10], Overfit Loss: 2.0090, Overfit Accuracy: 0.9000\n",
            "Epoch [53/10], Overfit Loss: 2.7594, Overfit Accuracy: 0.9000\n",
            "Epoch [54/10], Overfit Loss: 2.2436, Overfit Accuracy: 0.8000\n",
            "Epoch [55/10], Overfit Loss: 2.3625, Overfit Accuracy: 0.9000\n",
            "Epoch [56/10], Overfit Loss: 1.1846, Overfit Accuracy: 0.9000\n",
            "Epoch [57/10], Overfit Loss: 0.5332, Overfit Accuracy: 0.9000\n",
            "Epoch [58/10], Overfit Loss: 0.0023, Overfit Accuracy: 1.0000\n",
            "Epoch [59/10], Overfit Loss: 0.4709, Overfit Accuracy: 0.9000\n",
            "Epoch [60/10], Overfit Loss: 0.0014, Overfit Accuracy: 1.0000\n",
            "Epoch [61/10], Overfit Loss: 0.0019, Overfit Accuracy: 1.0000\n",
            "Epoch [62/10], Overfit Loss: 0.0000, Overfit Accuracy: 1.0000\n",
            "Epoch [63/10], Overfit Loss: 0.0000, Overfit Accuracy: 1.0000\n",
            "Epoch [64/10], Overfit Loss: 0.7967, Overfit Accuracy: 0.8000\n",
            "Epoch [65/10], Overfit Loss: 0.1232, Overfit Accuracy: 0.9000\n",
            "Epoch [66/10], Overfit Loss: 0.0600, Overfit Accuracy: 1.0000\n",
            "Epoch [67/10], Overfit Loss: 0.0001, Overfit Accuracy: 1.0000\n",
            "Epoch [68/10], Overfit Loss: 0.0039, Overfit Accuracy: 1.0000\n",
            "Epoch [69/10], Overfit Loss: 0.0002, Overfit Accuracy: 1.0000\n",
            "Epoch [70/10], Overfit Loss: 0.0000, Overfit Accuracy: 1.0000\n",
            "Epoch [71/10], Overfit Loss: 0.0003, Overfit Accuracy: 1.0000\n",
            "Epoch [72/10], Overfit Loss: 0.0001, Overfit Accuracy: 1.0000\n",
            "Epoch [73/10], Overfit Loss: 0.0032, Overfit Accuracy: 1.0000\n",
            "Epoch [74/10], Overfit Loss: 0.0000, Overfit Accuracy: 1.0000\n",
            "Epoch [75/10], Overfit Loss: 0.0560, Overfit Accuracy: 1.0000\n",
            "Epoch [76/10], Overfit Loss: 0.4116, Overfit Accuracy: 0.9000\n",
            "Epoch [77/10], Overfit Loss: 2.6794, Overfit Accuracy: 0.9000\n",
            "Epoch [78/10], Overfit Loss: 0.4918, Overfit Accuracy: 0.9000\n",
            "Epoch [79/10], Overfit Loss: 0.3400, Overfit Accuracy: 0.9000\n",
            "Epoch [80/10], Overfit Loss: 0.0463, Overfit Accuracy: 1.0000\n",
            "Epoch [81/10], Overfit Loss: 1.6669, Overfit Accuracy: 0.9000\n",
            "Epoch [82/10], Overfit Loss: 1.0470, Overfit Accuracy: 0.8000\n",
            "Epoch [83/10], Overfit Loss: 0.7656, Overfit Accuracy: 0.9000\n",
            "Epoch [84/10], Overfit Loss: 3.0034, Overfit Accuracy: 0.7000\n",
            "Epoch [85/10], Overfit Loss: 1.1972, Overfit Accuracy: 0.8000\n",
            "Epoch [86/10], Overfit Loss: 1.4543, Overfit Accuracy: 0.8000\n",
            "Epoch [87/10], Overfit Loss: 1.7318, Overfit Accuracy: 0.9000\n",
            "Epoch [88/10], Overfit Loss: 0.0004, Overfit Accuracy: 1.0000\n",
            "Epoch [89/10], Overfit Loss: 1.0488, Overfit Accuracy: 0.9000\n",
            "Epoch [90/10], Overfit Loss: 0.6246, Overfit Accuracy: 0.9000\n",
            "Epoch [91/10], Overfit Loss: 1.1930, Overfit Accuracy: 0.9000\n",
            "Epoch [92/10], Overfit Loss: 0.8764, Overfit Accuracy: 0.9000\n",
            "Epoch [93/10], Overfit Loss: 1.8367, Overfit Accuracy: 0.8000\n",
            "Epoch [94/10], Overfit Loss: 0.0000, Overfit Accuracy: 1.0000\n",
            "Epoch [95/10], Overfit Loss: 5.1100, Overfit Accuracy: 0.8000\n",
            "Epoch [96/10], Overfit Loss: 0.0000, Overfit Accuracy: 1.0000\n",
            "Epoch [97/10], Overfit Loss: 0.1204, Overfit Accuracy: 0.9000\n",
            "Epoch [98/10], Overfit Loss: 0.0000, Overfit Accuracy: 1.0000\n",
            "Epoch [99/10], Overfit Loss: 0.0000, Overfit Accuracy: 1.0000\n",
            "Epoch [100/10], Overfit Loss: 0.0396, Overfit Accuracy: 1.0000\n"
          ]
        }
      ]
    },
    {
      "cell_type": "code",
      "source": [
        "import matplotlib.pyplot as plt\n",
        "epochs = range(1, len(history_loss)+1)\n",
        "\n",
        "# Plot losses\n",
        "plt.plot(epochs, history_loss)\n",
        "plt.xlabel(\"Epochs\")\n",
        "plt.ylabel(\"Losses\")\n",
        "plt.title(\"Training Loss\")\n",
        "plt.show()"
      ],
      "metadata": {
        "colab": {
          "base_uri": "https://localhost:8080/",
          "height": 472
        },
        "id": "kI9Tig0VdxCl",
        "outputId": "47c10bd6-0105-446d-a72e-c0e06205d1fc"
      },
      "execution_count": 32,
      "outputs": [
        {
          "output_type": "display_data",
          "data": {
            "text/plain": [
              "<Figure size 640x480 with 1 Axes>"
            ],
            "image/png": "[encoded data removed]"
          },
          "metadata": {}
        }
      ]
    },
    {
      "cell_type": "code",
      "source": [
        "correct = 0\n",
        "total = 0\n",
        "\n",
        "with torch.no_grad(): # Disabling gradient calculation, since testing doesnot require weight update\n",
        "    cifar_10_model.eval() # Set the model to evaluation mode\n",
        "\n",
        "    for inputs, labels in overfit_loader:\n",
        "      # Move the inputs and labels to the selected device\n",
        "        inputs = inputs.to(device)\n",
        "        labels = labels.to(device)\n",
        "\n",
        "        # Forward pass\n",
        "        outputs = cifar_10_model(inputs)\n",
        "        _, predicted = torch.max(outputs.data, 1)\n",
        "\n",
        "        total += labels.size(0)\n",
        "        correct += (predicted == labels).sum().item()\n",
        "\n",
        "accuracy = 100 * correct / total\n",
        "print(f\"Test Accuracy: {accuracy:.2f}%\")\n"
      ],
      "metadata": {
        "colab": {
          "base_uri": "https://localhost:8080/"
        },
        "id": "F5lZ7GxVuZqC",
        "outputId": "8c1b1cf4-6437-4924-eb23-d4686226b85f"
      },
      "execution_count": 33,
      "outputs": [
        {
          "output_type": "stream",
          "name": "stdout",
          "text": [
            "Test Accuracy: 50.00%\n"
          ]
        }
      ]
    },
    {
      "cell_type": "code",
      "source": [
        "# Set the model to evaluation mode\n",
        "model.eval()\n",
        "\n",
        "# Iterate over the data loader\n",
        "for images, labels in overfit_loader:\n",
        "\n",
        "    images = images.to(device)\n",
        "    labels = labels.to(device)\n",
        "    # Forward pass\n",
        "    outputs = cifar_10_model(images)\n",
        "    _, predicted_indices = torch.topk(outputs, k=5, dim=1)\n",
        "\n",
        "    # Print the true label and the top 5 predicted class indices\n",
        "    print(f\"True Label: {labels[0]}\")\n",
        "    print(\"Top 5 Predicted Class Indices:\")\n",
        "    for i, idx in enumerate(predicted_indices[0]):\n",
        "        print(f\"{i+1}. {idx.item()}\")\n",
        "    print(\"--------------------\")"
      ],
      "metadata": {
        "colab": {
          "base_uri": "https://localhost:8080/"
        },
        "id": "Dn9cnegahIrF",
        "outputId": "a0613200-f04e-4c5b-f5a3-624f084c6910"
      },
      "execution_count": 34,
      "outputs": [
        {
          "output_type": "stream",
          "name": "stdout",
          "text": [
            "True Label: 2\n",
            "Top 5 Predicted Class Indices:\n",
            "1. 9\n",
            "2. 7\n",
            "3. 2\n",
            "4. 1\n",
            "5. 4\n",
            "--------------------\n",
            "True Label: 9\n",
            "Top 5 Predicted Class Indices:\n",
            "1. 9\n",
            "2. 7\n",
            "3. 1\n",
            "4. 4\n",
            "5. 2\n",
            "--------------------\n",
            "True Label: 4\n",
            "Top 5 Predicted Class Indices:\n",
            "1. 4\n",
            "2. 7\n",
            "3. 9\n",
            "4. 2\n",
            "5. 1\n",
            "--------------------\n",
            "True Label: 9\n",
            "Top 5 Predicted Class Indices:\n",
            "1. 1\n",
            "2. 9\n",
            "3. 4\n",
            "4. 7\n",
            "5. 2\n",
            "--------------------\n",
            "True Label: 7\n",
            "Top 5 Predicted Class Indices:\n",
            "1. 7\n",
            "2. 1\n",
            "3. 4\n",
            "4. 9\n",
            "5. 2\n",
            "--------------------\n",
            "True Label: 7\n",
            "Top 5 Predicted Class Indices:\n",
            "1. 1\n",
            "2. 9\n",
            "3. 4\n",
            "4. 7\n",
            "5. 2\n",
            "--------------------\n",
            "True Label: 4\n",
            "Top 5 Predicted Class Indices:\n",
            "1. 1\n",
            "2. 9\n",
            "3. 4\n",
            "4. 7\n",
            "5. 2\n",
            "--------------------\n",
            "True Label: 2\n",
            "Top 5 Predicted Class Indices:\n",
            "1. 1\n",
            "2. 9\n",
            "3. 4\n",
            "4. 7\n",
            "5. 2\n",
            "--------------------\n",
            "True Label: 1\n",
            "Top 5 Predicted Class Indices:\n",
            "1. 1\n",
            "2. 9\n",
            "3. 4\n",
            "4. 7\n",
            "5. 2\n",
            "--------------------\n",
            "True Label: 1\n",
            "Top 5 Predicted Class Indices:\n",
            "1. 1\n",
            "2. 7\n",
            "3. 2\n",
            "4. 9\n",
            "5. 4\n",
            "--------------------\n"
          ]
        }
      ]
    },
    {
      "cell_type": "markdown",
      "source": [
        "**Note:** predicted_indices[0] is used in the code because the batch size is 1, and it allows us to access the predicted class indices for the first (and only) image in the batch. If the batch size is greater than 1, you would iterate over predicted_indices directly."
      ],
      "metadata": {
        "id": "i7bWfE1jo4Df"
      }
    },
    {
      "cell_type": "markdown",
      "source": [
        "```\n",
        "# Example with batch size 2 and k = 3\n",
        "predicted_indices = torch.tensor([[1, 3, 2], [0, 4, 1]])\n",
        "\n",
        "print(predicted_indices)\n",
        "# Output:\n",
        "# tensor([[1, 3, 2],\n",
        "#         [0, 4, 1]])\n",
        "\n",
        "```\n",
        "\n",
        "In this example, predicted_indices has a shape of (2, 3) because the batch size is 2, and we are predicting the top 3 class indices for each image. The first row corresponds to the predicted class indices for the first image, and the second row corresponds to the predicted class indices for the second image."
      ],
      "metadata": {
        "id": "EUP58MbtqUZo"
      }
    },
    {
      "cell_type": "code",
      "source": [
        "# Save the model\n",
        "torch.save(cifar_10_model, \"overfit_model.pt\")"
      ],
      "metadata": {
        "id": "HF1UVY7lG174"
      },
      "execution_count": 35,
      "outputs": []
    }
  ]
}