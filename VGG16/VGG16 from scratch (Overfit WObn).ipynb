{
  "nbformat": 4,
  "nbformat_minor": 0,
  "metadata": {
    "colab": {
      "provenance": [],
      "gpuType": "T4",
      "authorship_tag": "ABX9TyNJZGhHdQgk+uC2+MIhah9+",
      "include_colab_link": true
    },
    "kernelspec": {
      "name": "python3",
      "display_name": "Python 3"
    },
    "language_info": {
      "name": "python"
    },
    "accelerator": "GPU"
  },
  "cells": [
    {
      "cell_type": "markdown",
      "metadata": {
        "id": "view-in-github",
        "colab_type": "text"
      },
      "source": [
        "<a href=\"https://colab.research.google.com/github/jinunyachhyon/Deep-Learning---PyTorch/blob/main/VGG_16_from_scratch_(Testing_on_10_images).ipynb\" target=\"_parent\"><img src=\"https://colab.research.google.com/assets/colab-badge.svg\" alt=\"Open In Colab\"/></a>"
      ]
    },
    {
      "cell_type": "markdown",
      "source": [
        "# VGG-16 Architecture"
      ],
      "metadata": {
        "id": "PlFRnGcJtRqh"
      }
    },
    {
      "cell_type": "code",
      "execution_count": null,
      "metadata": {
        "id": "4RNR04V1CDIJ"
      },
      "outputs": [],
      "source": [
        "# Imports \n",
        "import torch\n",
        "import torch.nn as nn"
      ]
    },
    {
      "cell_type": "code",
      "source": [
        "# VGG-16 architecture - convolution layer\n",
        "VGG16 = [64,64, 'M', 128, 128, 'M', 256, 256, 256, 'M', 512, 512, 512, 'M', 512, 512, 512, 'M']"
      ],
      "metadata": {
        "id": "YGIPUnhSdoOs"
      },
      "execution_count": null,
      "outputs": []
    },
    {
      "cell_type": "code",
      "source": [
        "# Create VGG-16 architecture\n",
        "class VGG_net(nn.Module):\n",
        "  def __init__(self, in_channels=3, num_classes=1000):\n",
        "    super(VGG_net, self).__init__()\n",
        "    self.in_channels = in_channels\n",
        "    self.conv_layers = self.create_conv_layers(VGG16)\n",
        "    self.fcs = nn.Sequential(\n",
        "        nn.Linear(512*7*7, 4096),\n",
        "        nn.ReLU(),\n",
        "        nn.Dropout(p=0.5),\n",
        "\n",
        "        nn.Linear(4096, 4096),\n",
        "        nn.ReLU(),\n",
        "        nn.Dropout(p=0.5),\n",
        "\n",
        "        nn.Linear(4096, num_classes)\n",
        "    )\n",
        "\n",
        "  def forward(self, x):\n",
        "      x = self.conv_layers(x)\n",
        "      x = x.reshape(x.shape[0], -1)\n",
        "      x = self.fcs(x)\n",
        "      return x\n",
        "\n",
        "  def create_conv_layers(self, architecture):\n",
        "    layers = []\n",
        "    in_channels = self.in_channels\n",
        "\n",
        "    for x in architecture:\n",
        "      if type(x) == int:\n",
        "        out_channels = x\n",
        "\n",
        "        layers += [nn.Conv2d(in_channels= in_channels, \n",
        "                             out_channels= out_channels,\n",
        "                             kernel_size=(3,3),\n",
        "                             stride=(1,1),\n",
        "                             padding=(1,1)),\n",
        "                   nn.ReLU()]\n",
        "        in_channels = x\n",
        "\n",
        "      elif x == 'M':\n",
        "        layers += [nn.MaxPool2d(kernel_size=(2,2), stride=(2,2))]\n",
        "\n",
        "    return nn.Sequential(*layers)"
      ],
      "metadata": {
        "id": "cHn8WbVJefvU"
      },
      "execution_count": null,
      "outputs": []
    },
    {
      "cell_type": "code",
      "source": [
        "# Instantiate the model \n",
        "model = VGG_net()"
      ],
      "metadata": {
        "id": "UjXVKYJDhu40"
      },
      "execution_count": null,
      "outputs": []
    },
    {
      "cell_type": "code",
      "source": [
        "# Specify device\n",
        "device = torch.device(\"cuda\" if torch.cuda.is_available() else \"cpu\")"
      ],
      "metadata": {
        "id": "ijx0VSDzvYxa"
      },
      "execution_count": null,
      "outputs": []
    },
    {
      "cell_type": "code",
      "source": [
        "# Model summary to compare params\n",
        "from torchsummary import summary\n",
        "\n",
        "summary(model.to(device), (3,244,244))"
      ],
      "metadata": {
        "colab": {
          "base_uri": "https://localhost:8080/"
        },
        "id": "Wrix0lx4h48J",
        "outputId": "4f74f703-578f-489f-fd9a-d6cc7ab70b3b"
      },
      "execution_count": null,
      "outputs": [
        {
          "output_type": "stream",
          "name": "stdout",
          "text": [
            "----------------------------------------------------------------\n",
            "        Layer (type)               Output Shape         Param #\n",
            "================================================================\n",
            "            Conv2d-1         [-1, 64, 244, 244]           1,792\n",
            "              ReLU-2         [-1, 64, 244, 244]               0\n",
            "            Conv2d-3         [-1, 64, 244, 244]          36,928\n",
            "              ReLU-4         [-1, 64, 244, 244]               0\n",
            "         MaxPool2d-5         [-1, 64, 122, 122]               0\n",
            "            Conv2d-6        [-1, 128, 122, 122]          73,856\n",
            "              ReLU-7        [-1, 128, 122, 122]               0\n",
            "            Conv2d-8        [-1, 128, 122, 122]         147,584\n",
            "              ReLU-9        [-1, 128, 122, 122]               0\n",
            "        MaxPool2d-10          [-1, 128, 61, 61]               0\n",
            "           Conv2d-11          [-1, 256, 61, 61]         295,168\n",
            "             ReLU-12          [-1, 256, 61, 61]               0\n",
            "           Conv2d-13          [-1, 256, 61, 61]         590,080\n",
            "             ReLU-14          [-1, 256, 61, 61]               0\n",
            "           Conv2d-15          [-1, 256, 61, 61]         590,080\n",
            "             ReLU-16          [-1, 256, 61, 61]               0\n",
            "        MaxPool2d-17          [-1, 256, 30, 30]               0\n",
            "           Conv2d-18          [-1, 512, 30, 30]       1,180,160\n",
            "             ReLU-19          [-1, 512, 30, 30]               0\n",
            "           Conv2d-20          [-1, 512, 30, 30]       2,359,808\n",
            "             ReLU-21          [-1, 512, 30, 30]               0\n",
            "           Conv2d-22          [-1, 512, 30, 30]       2,359,808\n",
            "             ReLU-23          [-1, 512, 30, 30]               0\n",
            "        MaxPool2d-24          [-1, 512, 15, 15]               0\n",
            "           Conv2d-25          [-1, 512, 15, 15]       2,359,808\n",
            "             ReLU-26          [-1, 512, 15, 15]               0\n",
            "           Conv2d-27          [-1, 512, 15, 15]       2,359,808\n",
            "             ReLU-28          [-1, 512, 15, 15]               0\n",
            "           Conv2d-29          [-1, 512, 15, 15]       2,359,808\n",
            "             ReLU-30          [-1, 512, 15, 15]               0\n",
            "        MaxPool2d-31            [-1, 512, 7, 7]               0\n",
            "           Linear-32                 [-1, 4096]     102,764,544\n",
            "             ReLU-33                 [-1, 4096]               0\n",
            "          Dropout-34                 [-1, 4096]               0\n",
            "           Linear-35                 [-1, 4096]      16,781,312\n",
            "             ReLU-36                 [-1, 4096]               0\n",
            "          Dropout-37                 [-1, 4096]               0\n",
            "           Linear-38                 [-1, 1000]       4,097,000\n",
            "================================================================\n",
            "Total params: 138,357,544\n",
            "Trainable params: 138,357,544\n",
            "Non-trainable params: 0\n",
            "----------------------------------------------------------------\n",
            "Input size (MB): 0.68\n",
            "Forward/backward pass size (MB): 258.32\n",
            "Params size (MB): 527.79\n",
            "Estimated Total Size (MB): 786.79\n",
            "----------------------------------------------------------------\n"
          ]
        }
      ]
    },
    {
      "cell_type": "markdown",
      "source": [
        "From the original paper, VGG-16 model should have 138 million parameters which matches with the model summary we created."
      ],
      "metadata": {
        "id": "9PTrlPMwibFS"
      }
    },
    {
      "cell_type": "code",
      "source": [
        "# Validating the model with example (1 image with shape=3x224x224)\n",
        "x = torch.randn(5, 3, 224, 224)\n",
        "model.to(device)(x.to(device)).shape"
      ],
      "metadata": {
        "colab": {
          "base_uri": "https://localhost:8080/"
        },
        "id": "ji2nU7hciI8Y",
        "outputId": "9920c9d7-6092-4021-8ebd-63ae46a51fb7"
      },
      "execution_count": null,
      "outputs": [
        {
          "output_type": "execute_result",
          "data": {
            "text/plain": [
              "torch.Size([5, 1000])"
            ]
          },
          "metadata": {},
          "execution_count": 7
        }
      ]
    },
    {
      "cell_type": "markdown",
      "source": [
        "# CIFAR-10 dataset"
      ],
      "metadata": {
        "id": "S0K4AYlhpuPL"
      }
    },
    {
      "cell_type": "code",
      "source": [
        "# Instantiate the model that gives 10 outputs for cifar-10\n",
        "cifar_10_model = VGG_net(num_classes=10)"
      ],
      "metadata": {
        "id": "0z4-ABtAvGhU"
      },
      "execution_count": null,
      "outputs": []
    },
    {
      "cell_type": "code",
      "source": [
        "# Model summary \n",
        "from torchsummary import summary\n",
        "\n",
        "summary(cifar_10_model.to(device), (3,244,244))"
      ],
      "metadata": {
        "colab": {
          "base_uri": "https://localhost:8080/"
        },
        "id": "7lFB7a1TwQCr",
        "outputId": "3ebb2d2f-5c29-43c9-e2f4-cad269665aa3"
      },
      "execution_count": null,
      "outputs": [
        {
          "output_type": "stream",
          "name": "stdout",
          "text": [
            "----------------------------------------------------------------\n",
            "        Layer (type)               Output Shape         Param #\n",
            "================================================================\n",
            "            Conv2d-1         [-1, 64, 244, 244]           1,792\n",
            "              ReLU-2         [-1, 64, 244, 244]               0\n",
            "            Conv2d-3         [-1, 64, 244, 244]          36,928\n",
            "              ReLU-4         [-1, 64, 244, 244]               0\n",
            "         MaxPool2d-5         [-1, 64, 122, 122]               0\n",
            "            Conv2d-6        [-1, 128, 122, 122]          73,856\n",
            "              ReLU-7        [-1, 128, 122, 122]               0\n",
            "            Conv2d-8        [-1, 128, 122, 122]         147,584\n",
            "              ReLU-9        [-1, 128, 122, 122]               0\n",
            "        MaxPool2d-10          [-1, 128, 61, 61]               0\n",
            "           Conv2d-11          [-1, 256, 61, 61]         295,168\n",
            "             ReLU-12          [-1, 256, 61, 61]               0\n",
            "           Conv2d-13          [-1, 256, 61, 61]         590,080\n",
            "             ReLU-14          [-1, 256, 61, 61]               0\n",
            "           Conv2d-15          [-1, 256, 61, 61]         590,080\n",
            "             ReLU-16          [-1, 256, 61, 61]               0\n",
            "        MaxPool2d-17          [-1, 256, 30, 30]               0\n",
            "           Conv2d-18          [-1, 512, 30, 30]       1,180,160\n",
            "             ReLU-19          [-1, 512, 30, 30]               0\n",
            "           Conv2d-20          [-1, 512, 30, 30]       2,359,808\n",
            "             ReLU-21          [-1, 512, 30, 30]               0\n",
            "           Conv2d-22          [-1, 512, 30, 30]       2,359,808\n",
            "             ReLU-23          [-1, 512, 30, 30]               0\n",
            "        MaxPool2d-24          [-1, 512, 15, 15]               0\n",
            "           Conv2d-25          [-1, 512, 15, 15]       2,359,808\n",
            "             ReLU-26          [-1, 512, 15, 15]               0\n",
            "           Conv2d-27          [-1, 512, 15, 15]       2,359,808\n",
            "             ReLU-28          [-1, 512, 15, 15]               0\n",
            "           Conv2d-29          [-1, 512, 15, 15]       2,359,808\n",
            "             ReLU-30          [-1, 512, 15, 15]               0\n",
            "        MaxPool2d-31            [-1, 512, 7, 7]               0\n",
            "           Linear-32                 [-1, 4096]     102,764,544\n",
            "             ReLU-33                 [-1, 4096]               0\n",
            "          Dropout-34                 [-1, 4096]               0\n",
            "           Linear-35                 [-1, 4096]      16,781,312\n",
            "             ReLU-36                 [-1, 4096]               0\n",
            "          Dropout-37                 [-1, 4096]               0\n",
            "           Linear-38                   [-1, 10]          40,970\n",
            "================================================================\n",
            "Total params: 134,301,514\n",
            "Trainable params: 134,301,514\n",
            "Non-trainable params: 0\n",
            "----------------------------------------------------------------\n",
            "Input size (MB): 0.68\n",
            "Forward/backward pass size (MB): 258.31\n",
            "Params size (MB): 512.32\n",
            "Estimated Total Size (MB): 771.31\n",
            "----------------------------------------------------------------\n"
          ]
        }
      ]
    },
    {
      "cell_type": "markdown",
      "source": [
        "## Load CIFAR-10 dataset"
      ],
      "metadata": {
        "id": "ZuLiUSHcuOZU"
      }
    },
    {
      "cell_type": "code",
      "source": [
        "import torch\n",
        "import torchvision\n",
        "import torchvision.transforms as transforms\n",
        "\n",
        "# Define the transformations to apply to the CIFAR-10 data\n",
        "transform = transforms.Compose([transforms.Resize((224,224)), #<-- Resize for VGG input\n",
        "                                transforms.ToTensor(),\n",
        "                                transforms.Normalize((0.5,0.5,0.5), (0.5,0.5,0.5))])\n",
        "\n",
        "# Download and load train and test data\n",
        "train_dataset = torchvision.datasets.CIFAR10(root='./data', train=True, download=True, transform=transform)\n",
        "test_dataset = torchvision.datasets.CIFAR10(root='./data', train=False, download=True, transform=transform)"
      ],
      "metadata": {
        "colab": {
          "base_uri": "https://localhost:8080/"
        },
        "id": "k8ooMj-kpw52",
        "outputId": "ce84be47-7cce-4911-c59c-ca09397f7004"
      },
      "execution_count": null,
      "outputs": [
        {
          "output_type": "stream",
          "name": "stdout",
          "text": [
            "Files already downloaded and verified\n",
            "Files already downloaded and verified\n"
          ]
        }
      ]
    },
    {
      "cell_type": "code",
      "source": [
        "train_dataset"
      ],
      "metadata": {
        "colab": {
          "base_uri": "https://localhost:8080/"
        },
        "id": "6TnKuGSZukKG",
        "outputId": "ec51dad8-bce7-42b1-a08f-6f61ec104640"
      },
      "execution_count": null,
      "outputs": [
        {
          "output_type": "execute_result",
          "data": {
            "text/plain": [
              "Dataset CIFAR10\n",
              "    Number of datapoints: 50000\n",
              "    Root location: ./data\n",
              "    Split: Train\n",
              "    StandardTransform\n",
              "Transform: Compose(\n",
              "               Resize(size=(224, 224), interpolation=bilinear, max_size=None, antialias=warn)\n",
              "               ToTensor()\n",
              "               Normalize(mean=(0.5, 0.5, 0.5), std=(0.5, 0.5, 0.5))\n",
              "           )"
            ]
          },
          "metadata": {},
          "execution_count": 11
        }
      ]
    },
    {
      "cell_type": "code",
      "source": [
        "train_dataset.classes"
      ],
      "metadata": {
        "colab": {
          "base_uri": "https://localhost:8080/"
        },
        "id": "HrF3eA5Qgm-v",
        "outputId": "70139c2d-270b-4a42-d222-03383d79076a"
      },
      "execution_count": null,
      "outputs": [
        {
          "output_type": "execute_result",
          "data": {
            "text/plain": [
              "['airplane',\n",
              " 'automobile',\n",
              " 'bird',\n",
              " 'cat',\n",
              " 'deer',\n",
              " 'dog',\n",
              " 'frog',\n",
              " 'horse',\n",
              " 'ship',\n",
              " 'truck']"
            ]
          },
          "metadata": {},
          "execution_count": 12
        }
      ]
    },
    {
      "cell_type": "code",
      "source": [
        "feature, label = train_dataset[0]\n",
        "feature.shape , label"
      ],
      "metadata": {
        "colab": {
          "base_uri": "https://localhost:8080/"
        },
        "id": "tlufVkeNutTX",
        "outputId": "0bb5485e-7869-4425-b499-4631a8c17721"
      },
      "execution_count": null,
      "outputs": [
        {
          "output_type": "execute_result",
          "data": {
            "text/plain": [
              "(torch.Size([3, 224, 224]), 6)"
            ]
          },
          "metadata": {},
          "execution_count": 13
        }
      ]
    },
    {
      "cell_type": "code",
      "source": [
        "# Let's visualize the first image in the train_dataset\n",
        "import matplotlib.pyplot as plt\n",
        "\n",
        "# Permute the image tensor from 3x224x224 to 224x224x3\n",
        "image = torch.permute(feature, (1, 2, 0))\n",
        "\n",
        "# Display the image\n",
        "plt.imshow(image)\n",
        "print('Label: ', train_dataset.classes[label], \"(\"+str(label)+\")\")\n",
        "plt.axis('off') # To remove axis label \n",
        "plt.show()"
      ],
      "metadata": {
        "colab": {
          "base_uri": "https://localhost:8080/",
          "height": 441
        },
        "id": "zcMaglmZuzcW",
        "outputId": "38aac7c6-1965-4d7b-a138-b45a5fbde704"
      },
      "execution_count": null,
      "outputs": [
        {
          "output_type": "stream",
          "name": "stderr",
          "text": [
            "WARNING:matplotlib.image:Clipping input data to the valid range for imshow with RGB data ([0..1] for floats or [0..255] for integers).\n"
          ]
        },
        {
          "output_type": "stream",
          "name": "stdout",
          "text": [
            "Label:  frog (6)\n"
          ]
        },
        {
          "output_type": "display_data",
          "data": {
            "text/plain": [
              "<Figure size 640x480 with 1 Axes>"
            ],
            "image/png": "[encoded data removed]"
          },
          "metadata": {}
        }
      ]
    },
    {
      "cell_type": "markdown",
      "source": [
        "## DataLoader for train-test Dataset"
      ],
      "metadata": {
        "id": "9urW7NrJxTEk"
      }
    },
    {
      "cell_type": "code",
      "source": [
        "from torch.utils.data import random_split\n",
        "val_size = 5000\n",
        "train_size = len(train_dataset) - val_size \n",
        "\n",
        "train_ds, val_ds = random_split(train_dataset, [train_size, val_size])\n",
        "len(train_ds), len(val_ds)"
      ],
      "metadata": {
        "colab": {
          "base_uri": "https://localhost:8080/"
        },
        "id": "1s_CNvDWh6nH",
        "outputId": "f865da91-8340-4a81-de3c-997f3b4db97c"
      },
      "execution_count": null,
      "outputs": [
        {
          "output_type": "execute_result",
          "data": {
            "text/plain": [
              "(45000, 5000)"
            ]
          },
          "metadata": {},
          "execution_count": 15
        }
      ]
    },
    {
      "cell_type": "code",
      "source": [
        "# Load the above split data\n",
        "train_loader = torch.utils.data.DataLoader(train_ds, batch_size=256, shuffle=True)\n",
        "val_loader = torch.utils.data.DataLoader(val_ds, batch_size=256, shuffle=True)"
      ],
      "metadata": {
        "id": "xlm16vbUxSZ5"
      },
      "execution_count": null,
      "outputs": []
    },
    {
      "cell_type": "code",
      "source": [
        "test_loader = torch.utils.data.DataLoader(test_dataset, batch_size=256, shuffle=False)"
      ],
      "metadata": {
        "id": "RELeIe55jZzm"
      },
      "execution_count": null,
      "outputs": []
    },
    {
      "cell_type": "code",
      "source": [
        "# Example from train_loader\n",
        "train_iterate = iter(train_loader)\n",
        "features, labels = next(train_iterate)\n",
        "features.shape"
      ],
      "metadata": {
        "colab": {
          "base_uri": "https://localhost:8080/"
        },
        "id": "Xftbc0VAvLli",
        "outputId": "b3a02c7e-a61f-492d-d4a5-347878e91830"
      },
      "execution_count": null,
      "outputs": [
        {
          "output_type": "execute_result",
          "data": {
            "text/plain": [
              "torch.Size([256, 3, 224, 224])"
            ]
          },
          "metadata": {},
          "execution_count": 21
        }
      ]
    },
    {
      "cell_type": "markdown",
      "source": [
        "Thus, there are 256 images in a  batch with shape 3x224x224. "
      ],
      "metadata": {
        "id": "qsTMtGBPk9PV"
      }
    },
    {
      "cell_type": "markdown",
      "source": [
        "# Overfit data\n",
        "- Dataset contains only 2 images of 5 class -- 10 images in total"
      ],
      "metadata": {
        "id": "glWq4a4AQFWl"
      }
    },
    {
      "cell_type": "code",
      "source": [
        "# New list to store final dataset\n",
        "custom_dataset = [train_dataset[1], train_dataset[2], train_dataset[3], train_dataset[4], train_dataset[5], train_dataset[6], train_dataset[7], train_dataset[10], train_dataset[11], train_dataset[13]]"
      ],
      "metadata": {
        "id": "-EFmrC80RfHI"
      },
      "execution_count": null,
      "outputs": []
    },
    {
      "cell_type": "code",
      "source": [
        "feature_custom, label_custom = custom_dataset[9]"
      ],
      "metadata": {
        "id": "fIaGbpunRjfF"
      },
      "execution_count": null,
      "outputs": []
    },
    {
      "cell_type": "code",
      "source": [
        "feature_custom, label_custom"
      ],
      "metadata": {
        "colab": {
          "base_uri": "https://localhost:8080/"
        },
        "id": "3l8Om2hgXRVA",
        "outputId": "f0af887d-b00d-4c04-e49c-a0b95d2db7df"
      },
      "execution_count": null,
      "outputs": [
        {
          "output_type": "execute_result",
          "data": {
            "text/plain": [
              "(tensor([[[-0.8667, -0.8667, -0.8667,  ..., -0.8510, -0.8510, -0.8510],\n",
              "          [-0.8667, -0.8667, -0.8667,  ..., -0.8510, -0.8510, -0.8510],\n",
              "          [-0.8667, -0.8667, -0.8667,  ..., -0.8510, -0.8510, -0.8510],\n",
              "          ...,\n",
              "          [ 0.6471,  0.6471,  0.6471,  ..., -0.7490, -0.7490, -0.7490],\n",
              "          [ 0.6471,  0.6471,  0.6471,  ..., -0.7490, -0.7490, -0.7490],\n",
              "          [ 0.6471,  0.6471,  0.6471,  ..., -0.7490, -0.7490, -0.7490]],\n",
              " \n",
              "         [[-0.9765, -0.9765, -0.9765,  ..., -0.9294, -0.9294, -0.9294],\n",
              "          [-0.9765, -0.9765, -0.9765,  ..., -0.9294, -0.9294, -0.9294],\n",
              "          [-0.9765, -0.9765, -0.9765,  ..., -0.9294, -0.9294, -0.9294],\n",
              "          ...,\n",
              "          [ 0.6314,  0.6314,  0.6314,  ..., -0.8196, -0.8196, -0.8196],\n",
              "          [ 0.6314,  0.6314,  0.6314,  ..., -0.8196, -0.8196, -0.8196],\n",
              "          [ 0.6314,  0.6314,  0.6314,  ..., -0.8196, -0.8196, -0.8196]],\n",
              " \n",
              "         [[-0.9843, -0.9843, -0.9843,  ..., -0.9451, -0.9451, -0.9451],\n",
              "          [-0.9843, -0.9843, -0.9843,  ..., -0.9451, -0.9451, -0.9451],\n",
              "          [-0.9843, -0.9843, -0.9843,  ..., -0.9451, -0.9451, -0.9451],\n",
              "          ...,\n",
              "          [ 0.7490,  0.7490,  0.7490,  ..., -0.8745, -0.8745, -0.8745],\n",
              "          [ 0.7490,  0.7490,  0.7490,  ..., -0.8745, -0.8745, -0.8745],\n",
              "          [ 0.7490,  0.7490,  0.7490,  ..., -0.8745, -0.8745, -0.8745]]]),\n",
              " 2)"
            ]
          },
          "metadata": {},
          "execution_count": 24
        }
      ]
    },
    {
      "cell_type": "code",
      "source": [
        "# Let's visualize the first image in the custom_dataset\n",
        "import matplotlib.pyplot as plt\n",
        "\n",
        "# Permute the image tensor from 3x224x224 to 224x224x3\n",
        "image = torch.permute(feature_custom, (1, 2, 0))\n",
        "\n",
        "# Display the image\n",
        "plt.imshow(image)\n",
        "print('Label: ', train_dataset.classes[label_custom], \"(\"+str(label_custom)+\")\")\n",
        "plt.axis('off') # To remove axis label \n",
        "plt.show()"
      ],
      "metadata": {
        "colab": {
          "base_uri": "https://localhost:8080/"
        },
        "id": "VOQzXEceW97N",
        "outputId": "0a36b794-9ea0-48f6-f0db-5e0b1e3b9869"
      },
      "execution_count": null,
      "outputs": [
        {
          "output_type": "stream",
          "name": "stderr",
          "text": [
            "WARNING:matplotlib.image:Clipping input data to the valid range for imshow with RGB data ([0..1] for floats or [0..255] for integers).\n"
          ]
        },
        {
          "output_type": "stream",
          "name": "stdout",
          "text": [
            "Label:  bird (2)\n"
          ]
        },
        {
          "output_type": "display_data",
          "data": {
            "text/plain": [
              "<Figure size 640x480 with 1 Axes>"
            ],
            "image/png": "[encoded data removed]"
          },
          "metadata": {}
        }
      ]
    },
    {
      "cell_type": "code",
      "source": [
        "from torch.utils.data import Dataset\n",
        "\n",
        "# Define a custom dataset class\n",
        "class CustomDataset(Dataset):\n",
        "    def __init__(self, data):\n",
        "        self.data = data\n",
        "\n",
        "    def __len__(self):\n",
        "        return len(self.data)\n",
        "\n",
        "    def __getitem__(self, index):\n",
        "        image, label = self.data[index]\n",
        "        return image, label"
      ],
      "metadata": {
        "id": "80psCHP4ZWej"
      },
      "execution_count": null,
      "outputs": []
    },
    {
      "cell_type": "code",
      "source": [
        "# Create an instance of the custom dataset\n",
        "overfit = CustomDataset(custom_dataset)"
      ],
      "metadata": {
        "id": "FKcku7_AZae-"
      },
      "execution_count": null,
      "outputs": []
    },
    {
      "cell_type": "code",
      "source": [
        "# Len of overfit\n",
        "len(overfit)"
      ],
      "metadata": {
        "colab": {
          "base_uri": "https://localhost:8080/"
        },
        "id": "XaQqX67capVz",
        "outputId": "14ec58b2-3cc9-4f2e-d126-8638598463d6"
      },
      "execution_count": null,
      "outputs": [
        {
          "output_type": "execute_result",
          "data": {
            "text/plain": [
              "10"
            ]
          },
          "metadata": {},
          "execution_count": 28
        }
      ]
    },
    {
      "cell_type": "markdown",
      "source": [
        "There are 10 images in the overfit."
      ],
      "metadata": {
        "id": "SXg6PuBiayf-"
      }
    },
    {
      "cell_type": "markdown",
      "source": [
        "# Training Loop"
      ],
      "metadata": {
        "id": "_SLJCdDLmMs0"
      }
    },
    {
      "cell_type": "code",
      "source": [
        "# Compile tha model \n",
        "import torch.optim as optim\n",
        "\n",
        "# Define the optimizer\n",
        "optimizer = optim.Adam(cifar_10_model.parameters(), lr=0.001)\n",
        "\n",
        "# Define the loss function\n",
        "criterion = nn.CrossEntropyLoss()"
      ],
      "metadata": {
        "id": "57aSARDBk8Lq"
      },
      "execution_count": null,
      "outputs": []
    },
    {
      "cell_type": "code",
      "source": [
        "cifar_10_model = cifar_10_model.to(device)"
      ],
      "metadata": {
        "id": "rMPtdYvfyWX3"
      },
      "execution_count": null,
      "outputs": []
    },
    {
      "cell_type": "markdown",
      "source": [
        "## Overfit Dataset with batch size 1"
      ],
      "metadata": {
        "id": "Labq2sULusJt"
      }
    },
    {
      "cell_type": "code",
      "source": [
        "# Create DataLoader for overfit data\n",
        "overfit_loader = torch.utils.data.DataLoader(overfit, batch_size=1, shuffle=True)"
      ],
      "metadata": {
        "id": "dfHZmb0iXyLI"
      },
      "execution_count": null,
      "outputs": []
    },
    {
      "cell_type": "code",
      "source": [
        "# Example checking the overfit_loader\n",
        "of_iter = iter(overfit_loader)\n",
        "of_feature, of_label = next(of_iter)\n",
        "of_feature.shape"
      ],
      "metadata": {
        "colab": {
          "base_uri": "https://localhost:8080/"
        },
        "id": "rDcpGYGVZs9g",
        "outputId": "21003569-ba31-461b-e757-a92731b6435a"
      },
      "execution_count": null,
      "outputs": [
        {
          "output_type": "execute_result",
          "data": {
            "text/plain": [
              "torch.Size([1, 3, 224, 224])"
            ]
          },
          "metadata": {},
          "execution_count": 32
        }
      ]
    },
    {
      "cell_type": "markdown",
      "source": [
        "Thus, the overfit dataset has a batch which yields 1 images with size 3x224x224."
      ],
      "metadata": {
        "id": "J_75QFrWaLvT"
      }
    },
    {
      "cell_type": "code",
      "source": [
        "# Overfitting in overfit dataset i.e 10 images\n",
        "\n",
        "history = [] # To plot the history for epoch vs. loss\n",
        "\n",
        "for epoch in range(100):\n",
        "\n",
        "  cifar_10_model.train()\n",
        "\n",
        "  running_loss = 0.0\n",
        "  running_corrects = 0\n",
        "\n",
        "  # Iterate over the training data in batches\n",
        "  for inputs, labels in overfit_loader:  \n",
        "      # Move the inputs and labels to the selected device\n",
        "      inputs = inputs.to(device)\n",
        "      labels = labels.to(device)\n",
        "\n",
        "      # Forward pass\n",
        "      outputs = cifar_10_model(inputs)\n",
        "      torch.cuda.empty_cache() # Limit GPU memory growth\n",
        "\n",
        "      # Calculate the loss\n",
        "      loss = criterion(outputs, labels)\n",
        "\n",
        "      # Backward pass and optimization\n",
        "      optimizer.zero_grad()\n",
        "      loss.backward()\n",
        "      optimizer.step()\n",
        "\n",
        "      torch.cuda.empty_cache() # Limit GPU memory growth\n",
        "\n",
        "      # Update running loss and accuracy\n",
        "      running_loss += loss.item() * inputs.size(0)\n",
        "      _, preds = torch.max(outputs, 1)\n",
        "      running_corrects += torch.sum(preds == labels.data)\n",
        "\n",
        "  # Calculate epoch loss and accuracy for training data\n",
        "  epoch_loss = running_loss / len(overfit)\n",
        "  epoch_acc = running_corrects.double() / len(overfit)\n",
        "  history.append(epoch_loss)\n",
        "\n",
        "  # Print the loss and accuracy for overfit data\n",
        "  print(f\"Epoch [{epoch+1}/{10}], \"\n",
        "        f\"Overfit Loss: {epoch_loss:.4f}, Overfit Accuracy: {epoch_acc:.4f}\")\n"
      ],
      "metadata": {
        "colab": {
          "base_uri": "https://localhost:8080/"
        },
        "id": "W0zQFxZetIjW",
        "outputId": "1677e9d7-0e94-4546-97b8-02d4cc2ef71c"
      },
      "execution_count": null,
      "outputs": [
        {
          "output_type": "stream",
          "name": "stdout",
          "text": [
            "Epoch [1/10], Overfit Loss: 2.4979, Overfit Accuracy: 0.0000\n",
            "Epoch [2/10], Overfit Loss: 2.4655, Overfit Accuracy: 0.0000\n",
            "Epoch [3/10], Overfit Loss: 1.8684, Overfit Accuracy: 0.1000\n",
            "Epoch [4/10], Overfit Loss: 1.8059, Overfit Accuracy: 0.1000\n",
            "Epoch [5/10], Overfit Loss: 1.8600, Overfit Accuracy: 0.2000\n",
            "Epoch [6/10], Overfit Loss: 1.6498, Overfit Accuracy: 0.3000\n",
            "Epoch [7/10], Overfit Loss: 1.7221, Overfit Accuracy: 0.1000\n",
            "Epoch [8/10], Overfit Loss: 1.6766, Overfit Accuracy: 0.1000\n",
            "Epoch [9/10], Overfit Loss: 1.6946, Overfit Accuracy: 0.0000\n",
            "Epoch [10/10], Overfit Loss: 1.6593, Overfit Accuracy: 0.1000\n",
            "Epoch [11/10], Overfit Loss: 1.6858, Overfit Accuracy: 0.0000\n",
            "Epoch [12/10], Overfit Loss: 1.7186, Overfit Accuracy: 0.0000\n",
            "Epoch [13/10], Overfit Loss: 1.6755, Overfit Accuracy: 0.1000\n",
            "Epoch [14/10], Overfit Loss: 1.6675, Overfit Accuracy: 0.0000\n",
            "Epoch [15/10], Overfit Loss: 1.6240, Overfit Accuracy: 0.2000\n",
            "Epoch [16/10], Overfit Loss: 1.6858, Overfit Accuracy: 0.1000\n",
            "Epoch [17/10], Overfit Loss: 1.6632, Overfit Accuracy: 0.1000\n",
            "Epoch [18/10], Overfit Loss: 1.6508, Overfit Accuracy: 0.0000\n",
            "Epoch [19/10], Overfit Loss: 1.6975, Overfit Accuracy: 0.2000\n",
            "Epoch [20/10], Overfit Loss: 1.6353, Overfit Accuracy: 0.1000\n",
            "Epoch [21/10], Overfit Loss: 1.6727, Overfit Accuracy: 0.1000\n",
            "Epoch [22/10], Overfit Loss: 1.6641, Overfit Accuracy: 0.2000\n",
            "Epoch [23/10], Overfit Loss: 1.6100, Overfit Accuracy: 0.4000\n",
            "Epoch [24/10], Overfit Loss: 1.6129, Overfit Accuracy: 0.3000\n",
            "Epoch [25/10], Overfit Loss: 1.6627, Overfit Accuracy: 0.1000\n",
            "Epoch [26/10], Overfit Loss: 1.6747, Overfit Accuracy: 0.1000\n",
            "Epoch [27/10], Overfit Loss: 1.7223, Overfit Accuracy: 0.0000\n",
            "Epoch [28/10], Overfit Loss: 1.7108, Overfit Accuracy: 0.0000\n",
            "Epoch [29/10], Overfit Loss: 1.6207, Overfit Accuracy: 0.2000\n",
            "Epoch [30/10], Overfit Loss: 1.6601, Overfit Accuracy: 0.2000\n",
            "Epoch [31/10], Overfit Loss: 1.6603, Overfit Accuracy: 0.2000\n",
            "Epoch [32/10], Overfit Loss: 1.6437, Overfit Accuracy: 0.2000\n",
            "Epoch [33/10], Overfit Loss: 1.6652, Overfit Accuracy: 0.0000\n",
            "Epoch [34/10], Overfit Loss: 1.6305, Overfit Accuracy: 0.2000\n",
            "Epoch [35/10], Overfit Loss: 1.6217, Overfit Accuracy: 0.2000\n",
            "Epoch [36/10], Overfit Loss: 1.6110, Overfit Accuracy: 0.1000\n",
            "Epoch [37/10], Overfit Loss: 1.6897, Overfit Accuracy: 0.0000\n",
            "Epoch [38/10], Overfit Loss: 1.6681, Overfit Accuracy: 0.2000\n",
            "Epoch [39/10], Overfit Loss: 1.6606, Overfit Accuracy: 0.2000\n",
            "Epoch [40/10], Overfit Loss: 1.6397, Overfit Accuracy: 0.1000\n",
            "Epoch [41/10], Overfit Loss: 1.6941, Overfit Accuracy: 0.0000\n",
            "Epoch [42/10], Overfit Loss: 1.6607, Overfit Accuracy: 0.1000\n",
            "Epoch [43/10], Overfit Loss: 1.6645, Overfit Accuracy: 0.2000\n",
            "Epoch [44/10], Overfit Loss: 1.6260, Overfit Accuracy: 0.1000\n",
            "Epoch [45/10], Overfit Loss: 1.6562, Overfit Accuracy: 0.2000\n",
            "Epoch [46/10], Overfit Loss: 1.6665, Overfit Accuracy: 0.1000\n",
            "Epoch [47/10], Overfit Loss: 1.6115, Overfit Accuracy: 0.0000\n",
            "Epoch [48/10], Overfit Loss: 1.6849, Overfit Accuracy: 0.1000\n",
            "Epoch [49/10], Overfit Loss: 1.6872, Overfit Accuracy: 0.0000\n",
            "Epoch [50/10], Overfit Loss: 1.6230, Overfit Accuracy: 0.1000\n",
            "Epoch [51/10], Overfit Loss: 1.6319, Overfit Accuracy: 0.1000\n",
            "Epoch [52/10], Overfit Loss: 1.6360, Overfit Accuracy: 0.2000\n",
            "Epoch [53/10], Overfit Loss: 1.6460, Overfit Accuracy: 0.1000\n",
            "Epoch [54/10], Overfit Loss: 1.6003, Overfit Accuracy: 0.2000\n",
            "Epoch [55/10], Overfit Loss: 1.6083, Overfit Accuracy: 0.3000\n",
            "Epoch [56/10], Overfit Loss: 1.7263, Overfit Accuracy: 0.1000\n",
            "Epoch [57/10], Overfit Loss: 1.6447, Overfit Accuracy: 0.0000\n",
            "Epoch [58/10], Overfit Loss: 1.6684, Overfit Accuracy: 0.1000\n",
            "Epoch [59/10], Overfit Loss: 1.6517, Overfit Accuracy: 0.0000\n",
            "Epoch [60/10], Overfit Loss: 1.6610, Overfit Accuracy: 0.0000\n",
            "Epoch [61/10], Overfit Loss: 1.6440, Overfit Accuracy: 0.1000\n",
            "Epoch [62/10], Overfit Loss: 1.6287, Overfit Accuracy: 0.2000\n",
            "Epoch [63/10], Overfit Loss: 1.6705, Overfit Accuracy: 0.3000\n",
            "Epoch [64/10], Overfit Loss: 1.6732, Overfit Accuracy: 0.1000\n",
            "Epoch [65/10], Overfit Loss: 1.6218, Overfit Accuracy: 0.3000\n",
            "Epoch [66/10], Overfit Loss: 1.6449, Overfit Accuracy: 0.2000\n",
            "Epoch [67/10], Overfit Loss: 1.6275, Overfit Accuracy: 0.1000\n",
            "Epoch [68/10], Overfit Loss: 1.6529, Overfit Accuracy: 0.2000\n",
            "Epoch [69/10], Overfit Loss: 1.5990, Overfit Accuracy: 0.3000\n",
            "Epoch [70/10], Overfit Loss: 1.6378, Overfit Accuracy: 0.2000\n",
            "Epoch [71/10], Overfit Loss: 1.6324, Overfit Accuracy: 0.1000\n",
            "Epoch [72/10], Overfit Loss: 1.6400, Overfit Accuracy: 0.3000\n",
            "Epoch [73/10], Overfit Loss: 1.6098, Overfit Accuracy: 0.3000\n",
            "Epoch [74/10], Overfit Loss: 1.6472, Overfit Accuracy: 0.0000\n",
            "Epoch [75/10], Overfit Loss: 1.6694, Overfit Accuracy: 0.1000\n",
            "Epoch [76/10], Overfit Loss: 1.6380, Overfit Accuracy: 0.3000\n",
            "Epoch [77/10], Overfit Loss: 1.6154, Overfit Accuracy: 0.2000\n",
            "Epoch [78/10], Overfit Loss: 1.5902, Overfit Accuracy: 0.3000\n",
            "Epoch [79/10], Overfit Loss: 1.6138, Overfit Accuracy: 0.2000\n",
            "Epoch [80/10], Overfit Loss: 1.6167, Overfit Accuracy: 0.1000\n",
            "Epoch [81/10], Overfit Loss: 1.6599, Overfit Accuracy: 0.3000\n",
            "Epoch [82/10], Overfit Loss: 1.6079, Overfit Accuracy: 0.1000\n",
            "Epoch [83/10], Overfit Loss: 1.6432, Overfit Accuracy: 0.1000\n",
            "Epoch [84/10], Overfit Loss: 1.6184, Overfit Accuracy: 0.2000\n",
            "Epoch [85/10], Overfit Loss: 1.6095, Overfit Accuracy: 0.2000\n",
            "Epoch [86/10], Overfit Loss: 1.6355, Overfit Accuracy: 0.2000\n",
            "Epoch [87/10], Overfit Loss: 1.5991, Overfit Accuracy: 0.0000\n",
            "Epoch [88/10], Overfit Loss: 1.6696, Overfit Accuracy: 0.2000\n",
            "Epoch [89/10], Overfit Loss: 1.6789, Overfit Accuracy: 0.1000\n",
            "Epoch [90/10], Overfit Loss: 1.6314, Overfit Accuracy: 0.4000\n",
            "Epoch [91/10], Overfit Loss: 1.6390, Overfit Accuracy: 0.2000\n",
            "Epoch [92/10], Overfit Loss: 1.6763, Overfit Accuracy: 0.0000\n",
            "Epoch [93/10], Overfit Loss: 1.6083, Overfit Accuracy: 0.3000\n",
            "Epoch [94/10], Overfit Loss: 1.6661, Overfit Accuracy: 0.1000\n",
            "Epoch [95/10], Overfit Loss: 1.6526, Overfit Accuracy: 0.3000\n",
            "Epoch [96/10], Overfit Loss: 1.5892, Overfit Accuracy: 0.4000\n",
            "Epoch [97/10], Overfit Loss: 1.6232, Overfit Accuracy: 0.2000\n",
            "Epoch [98/10], Overfit Loss: 1.6076, Overfit Accuracy: 0.1000\n",
            "Epoch [99/10], Overfit Loss: 1.6521, Overfit Accuracy: 0.1000\n",
            "Epoch [100/10], Overfit Loss: 1.6309, Overfit Accuracy: 0.1000\n"
          ]
        }
      ]
    },
    {
      "cell_type": "code",
      "source": [
        "import matplotlib.pyplot as plt\n",
        "epochs = range(1, len(history)+1)\n",
        "\n",
        "# Plot losses\n",
        "plt.plot(epochs, history)\n",
        "plt.xlabel(\"Epochs\")\n",
        "plt.ylabel(\"Losses\")\n",
        "plt.title(\"Training Loss\")\n",
        "plt.show()"
      ],
      "metadata": {
        "colab": {
          "base_uri": "https://localhost:8080/",
          "height": 472
        },
        "id": "kI9Tig0VdxCl",
        "outputId": "1efa9cb6-a456-49f1-fa19-581606003bb1"
      },
      "execution_count": null,
      "outputs": [
        {
          "output_type": "display_data",
          "data": {
            "text/plain": [
              "<Figure size 640x480 with 1 Axes>"
            ],
            "image/png": "[encoded data removed]"
          },
          "metadata": {}
        }
      ]
    },
    {
      "cell_type": "code",
      "source": [
        "correct = 0\n",
        "total = 0\n",
        "\n",
        "with torch.no_grad(): # Disabling gradient calculation, since testing doesnot require weight update\n",
        "    cifar_10_model.eval() # Set the model to evaluation mode\n",
        "\n",
        "    for inputs, labels in overfit_loader:\n",
        "      # Move the inputs and labels to the selected device\n",
        "        inputs = inputs.to(device)\n",
        "        labels = labels.to(device)\n",
        "\n",
        "        # Forward pass \n",
        "        outputs = cifar_10_model(inputs)\n",
        "        _, predicted = torch.max(outputs.data, 1)\n",
        "\n",
        "        total += labels.size(0)\n",
        "        correct += (predicted == labels).sum().item()\n",
        "\n",
        "accuracy = 100 * correct / total\n",
        "print(f\"Test Accuracy: {accuracy:.2f}%\")\n"
      ],
      "metadata": {
        "colab": {
          "base_uri": "https://localhost:8080/"
        },
        "id": "F5lZ7GxVuZqC",
        "outputId": "fc996a12-5e37-41cb-b9c3-57d484b475f9"
      },
      "execution_count": null,
      "outputs": [
        {
          "output_type": "stream",
          "name": "stdout",
          "text": [
            "Test Accuracy: 20.00%\n"
          ]
        }
      ]
    },
    {
      "cell_type": "code",
      "source": [
        "# Set the model to evaluation mode\n",
        "model.eval()\n",
        "\n",
        "# Iterate over the data loader\n",
        "for images, labels in overfit_loader:\n",
        "\n",
        "    images = images.to(device)\n",
        "    labels = labels.to(device)\n",
        "    # Forward pass\n",
        "    outputs = cifar_10_model(images)\n",
        "    _, predicted_indices = torch.topk(outputs, k=5, dim=1)\n",
        "    \n",
        "    # Print the true label and the top 5 predicted class indices\n",
        "    print(f\"True Label: {labels[0]}\")\n",
        "    print(\"Top 5 Predicted Class Indices:\")\n",
        "    for i, idx in enumerate(predicted_indices[0]):\n",
        "        print(f\"{i+1}. {idx.item()}\")\n",
        "    print(\"--------------------\")"
      ],
      "metadata": {
        "colab": {
          "base_uri": "https://localhost:8080/"
        },
        "id": "Dn9cnegahIrF",
        "outputId": "09a70c4f-ea5f-48d9-f6f5-0d72f7660026"
      },
      "execution_count": null,
      "outputs": [
        {
          "output_type": "stream",
          "name": "stdout",
          "text": [
            "True Label: 4\n",
            "Top 5 Predicted Class Indices:\n",
            "1. 9\n",
            "2. 4\n",
            "3. 2\n",
            "4. 1\n",
            "5. 7\n",
            "--------------------\n",
            "True Label: 9\n",
            "Top 5 Predicted Class Indices:\n",
            "1. 9\n",
            "2. 4\n",
            "3. 2\n",
            "4. 1\n",
            "5. 7\n",
            "--------------------\n",
            "True Label: 1\n",
            "Top 5 Predicted Class Indices:\n",
            "1. 9\n",
            "2. 4\n",
            "3. 2\n",
            "4. 1\n",
            "5. 7\n",
            "--------------------\n",
            "True Label: 1\n",
            "Top 5 Predicted Class Indices:\n",
            "1. 9\n",
            "2. 4\n",
            "3. 2\n",
            "4. 1\n",
            "5. 7\n",
            "--------------------\n",
            "True Label: 2\n",
            "Top 5 Predicted Class Indices:\n",
            "1. 9\n",
            "2. 4\n",
            "3. 2\n",
            "4. 1\n",
            "5. 7\n",
            "--------------------\n",
            "True Label: 9\n",
            "Top 5 Predicted Class Indices:\n",
            "1. 9\n",
            "2. 4\n",
            "3. 2\n",
            "4. 1\n",
            "5. 7\n",
            "--------------------\n",
            "True Label: 4\n",
            "Top 5 Predicted Class Indices:\n",
            "1. 9\n",
            "2. 4\n",
            "3. 2\n",
            "4. 1\n",
            "5. 7\n",
            "--------------------\n",
            "True Label: 2\n",
            "Top 5 Predicted Class Indices:\n",
            "1. 9\n",
            "2. 4\n",
            "3. 2\n",
            "4. 1\n",
            "5. 7\n",
            "--------------------\n",
            "True Label: 7\n",
            "Top 5 Predicted Class Indices:\n",
            "1. 9\n",
            "2. 4\n",
            "3. 2\n",
            "4. 1\n",
            "5. 7\n",
            "--------------------\n",
            "True Label: 7\n",
            "Top 5 Predicted Class Indices:\n",
            "1. 9\n",
            "2. 4\n",
            "3. 2\n",
            "4. 1\n",
            "5. 7\n",
            "--------------------\n"
          ]
        }
      ]
    },
    {
      "cell_type": "markdown",
      "source": [
        "**Note:** predicted_indices[0] is used in the code because the batch size is 1, and it allows us to access the predicted class indices for the first (and only) image in the batch. If the batch size is greater than 1, you would iterate over predicted_indices directly."
      ],
      "metadata": {
        "id": "i7bWfE1jo4Df"
      }
    },
    {
      "cell_type": "markdown",
      "source": [
        "```\n",
        "# Example with batch size 2 and k = 3\n",
        "predicted_indices = torch.tensor([[1, 3, 2], [0, 4, 1]])\n",
        "\n",
        "print(predicted_indices)\n",
        "# Output:\n",
        "# tensor([[1, 3, 2],\n",
        "#         [0, 4, 1]])\n",
        "\n",
        "```\n",
        "\n",
        "In this example, predicted_indices has a shape of (2, 3) because the batch size is 2, and we are predicting the top 3 class indices for each image. The first row corresponds to the predicted class indices for the first image, and the second row corresponds to the predicted class indices for the second image."
      ],
      "metadata": {
        "id": "EUP58MbtqUZo"
      }
    }
  ]
}