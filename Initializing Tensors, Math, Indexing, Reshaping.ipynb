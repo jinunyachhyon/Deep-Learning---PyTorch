{
  "nbformat": 4,
  "nbformat_minor": 0,
  "metadata": {
    "colab": {
      "provenance": [],
      "authorship_tag": "ABX9TyOM8yC1kzcIHjhErCU6GmO2",
      "include_colab_link": true
    },
    "kernelspec": {
      "name": "python3",
      "display_name": "Python 3"
    },
    "language_info": {
      "name": "python"
    }
  },
  "cells": [
    {
      "cell_type": "markdown",
      "metadata": {
        "id": "view-in-github",
        "colab_type": "text"
      },
      "source": [
        "<a href=\"https://colab.research.google.com/github/jinunyachhyon/Deep-Learning---PyTorch/blob/main/Initializing%20Tensors%2C%20Math%2C%20Indexing%2C%20Reshaping.ipynb\" target=\"_parent\"><img src=\"https://colab.research.google.com/assets/colab-badge.svg\" alt=\"Open In Colab\"/></a>"
      ]
    },
    {
      "cell_type": "code",
      "execution_count": 17,
      "metadata": {
        "id": "0BO_JZcCyhAR"
      },
      "outputs": [],
      "source": [
        "import torch"
      ]
    },
    {
      "cell_type": "markdown",
      "source": [
        "# Initializing a Tensor"
      ],
      "metadata": {
        "id": "EylD9UDn39Nt"
      }
    },
    {
      "cell_type": "code",
      "source": [
        "# Initializing Tensor\n",
        "my_tensor = torch.tensor([[1,2,3], [4,5,6]], dtype=torch.float32)\n",
        "my_tensor"
      ],
      "metadata": {
        "colab": {
          "base_uri": "https://localhost:8080/"
        },
        "id": "f_vQ2ftFysmZ",
        "outputId": "9e689be1-3c0e-4c02-e818-16c180f86188"
      },
      "execution_count": 18,
      "outputs": [
        {
          "output_type": "execute_result",
          "data": {
            "text/plain": [
              "tensor([[1., 2., 3.],\n",
              "        [4., 5., 6.]])"
            ]
          },
          "metadata": {},
          "execution_count": 18
        }
      ]
    },
    {
      "cell_type": "code",
      "source": [
        "# Other initialization methods\n",
        "x = torch.empty(size=(3,3))\n",
        "x"
      ],
      "metadata": {
        "colab": {
          "base_uri": "https://localhost:8080/"
        },
        "id": "yxXrzyjvzVvP",
        "outputId": "058f4cc7-cd9a-43d6-99be-0400bd45e065"
      },
      "execution_count": 19,
      "outputs": [
        {
          "output_type": "execute_result",
          "data": {
            "text/plain": [
              "tensor([[ 2.4309e-34,  0.0000e+00, -2.8027e+15],\n",
              "        [ 7.2996e+33,  1.1646e+24,  4.5785e-41],\n",
              "        [ 2.4322e-34,  0.0000e+00, -7.3870e+25]])"
            ]
          },
          "metadata": {},
          "execution_count": 19
        }
      ]
    },
    {
      "cell_type": "code",
      "source": [
        "x = torch.zeros((3,3))\n",
        "x"
      ],
      "metadata": {
        "colab": {
          "base_uri": "https://localhost:8080/"
        },
        "id": "Ix6cWZsy2pBS",
        "outputId": "2f96d95f-342f-4508-c9d3-6e5d896d96b7"
      },
      "execution_count": 20,
      "outputs": [
        {
          "output_type": "execute_result",
          "data": {
            "text/plain": [
              "tensor([[0., 0., 0.],\n",
              "        [0., 0., 0.],\n",
              "        [0., 0., 0.]])"
            ]
          },
          "metadata": {},
          "execution_count": 20
        }
      ]
    },
    {
      "cell_type": "code",
      "source": [
        "x = torch.rand((3,3))\n",
        "x"
      ],
      "metadata": {
        "colab": {
          "base_uri": "https://localhost:8080/"
        },
        "id": "jMb1LKsQ2t8s",
        "outputId": "120c68f2-7c78-4037-c320-ffda7dfc86ea"
      },
      "execution_count": 21,
      "outputs": [
        {
          "output_type": "execute_result",
          "data": {
            "text/plain": [
              "tensor([[0.4402, 0.8217, 0.7763],\n",
              "        [0.3547, 0.0346, 0.1128],\n",
              "        [0.6139, 0.9607, 0.8929]])"
            ]
          },
          "metadata": {},
          "execution_count": 21
        }
      ]
    },
    {
      "cell_type": "code",
      "source": [
        "x = torch.ones((3,3))\n",
        "x"
      ],
      "metadata": {
        "colab": {
          "base_uri": "https://localhost:8080/"
        },
        "id": "xwImigPz2xT8",
        "outputId": "672866c2-c543-41ed-80cb-83b65c5e7f6f"
      },
      "execution_count": 22,
      "outputs": [
        {
          "output_type": "execute_result",
          "data": {
            "text/plain": [
              "tensor([[1., 1., 1.],\n",
              "        [1., 1., 1.],\n",
              "        [1., 1., 1.]])"
            ]
          },
          "metadata": {},
          "execution_count": 22
        }
      ]
    },
    {
      "cell_type": "code",
      "source": [
        "torch.eye(5,5) # Identity matrix"
      ],
      "metadata": {
        "colab": {
          "base_uri": "https://localhost:8080/"
        },
        "id": "yBAbL9c620E5",
        "outputId": "60df49a6-7799-4802-c632-44095320b52a"
      },
      "execution_count": 23,
      "outputs": [
        {
          "output_type": "execute_result",
          "data": {
            "text/plain": [
              "tensor([[1., 0., 0., 0., 0.],\n",
              "        [0., 1., 0., 0., 0.],\n",
              "        [0., 0., 1., 0., 0.],\n",
              "        [0., 0., 0., 1., 0.],\n",
              "        [0., 0., 0., 0., 1.]])"
            ]
          },
          "metadata": {},
          "execution_count": 23
        }
      ]
    },
    {
      "cell_type": "code",
      "source": [
        "torch.arange(start=0, end=5, step=1) # A range of value from start to end that jumps with given steps"
      ],
      "metadata": {
        "colab": {
          "base_uri": "https://localhost:8080/"
        },
        "id": "uMEP3ySx27iY",
        "outputId": "d5e7169d-aebf-47ff-c25a-e448151662f7"
      },
      "execution_count": 24,
      "outputs": [
        {
          "output_type": "execute_result",
          "data": {
            "text/plain": [
              "tensor([0, 1, 2, 3, 4])"
            ]
          },
          "metadata": {},
          "execution_count": 24
        }
      ]
    },
    {
      "cell_type": "code",
      "source": [
        "torch.linspace(start=0.1, end=1, steps=10) # Start with 0.1 and end 1, with tensor having 10 values"
      ],
      "metadata": {
        "colab": {
          "base_uri": "https://localhost:8080/"
        },
        "id": "E5hoe0LY3Kjr",
        "outputId": "d3912b9d-9eaf-4c31-88e0-8b522769c052"
      },
      "execution_count": 25,
      "outputs": [
        {
          "output_type": "execute_result",
          "data": {
            "text/plain": [
              "tensor([0.1000, 0.2000, 0.3000, 0.4000, 0.5000, 0.6000, 0.7000, 0.8000, 0.9000,\n",
              "        1.0000])"
            ]
          },
          "metadata": {},
          "execution_count": 25
        }
      ]
    },
    {
      "cell_type": "code",
      "source": [
        "# Normal Distributed values\n",
        "torch.empty(size=(3,3)).normal_(mean=0, std=1)"
      ],
      "metadata": {
        "colab": {
          "base_uri": "https://localhost:8080/"
        },
        "id": "-xSUrHT63du-",
        "outputId": "50190ed3-0e27-4030-b541-0dfc5b668ac7"
      },
      "execution_count": 26,
      "outputs": [
        {
          "output_type": "execute_result",
          "data": {
            "text/plain": [
              "tensor([[ 0.4851,  0.3327, -0.3987],\n",
              "        [-0.5294,  0.9261, -1.5855],\n",
              "        [-0.6095,  0.5565, -1.4226]])"
            ]
          },
          "metadata": {},
          "execution_count": 26
        }
      ]
    },
    {
      "cell_type": "code",
      "source": [
        "# Uniform Distributed values\n",
        "torch.empty(size=(3,3)).uniform_(0,1)"
      ],
      "metadata": {
        "colab": {
          "base_uri": "https://localhost:8080/"
        },
        "id": "hlaB4U-13vwx",
        "outputId": "afae7e9f-d316-48f6-d94c-ec9bc9126917"
      },
      "execution_count": 27,
      "outputs": [
        {
          "output_type": "execute_result",
          "data": {
            "text/plain": [
              "tensor([[0.9642, 0.0395, 0.1779],\n",
              "        [0.5467, 0.5329, 0.6573],\n",
              "        [0.6148, 0.7983, 0.2922]])"
            ]
          },
          "metadata": {},
          "execution_count": 27
        }
      ]
    },
    {
      "cell_type": "markdown",
      "source": [
        "# Converting between Array to Tensors"
      ],
      "metadata": {
        "id": "SubqcAWd4Py2"
      }
    },
    {
      "cell_type": "code",
      "source": [
        "import numpy as np\n",
        "np_array = np.array([[1,2],[3,4],[5,6]])\n",
        "print(np_array)\n",
        "\n",
        "array_to_tensor = torch.from_numpy(np_array)\n",
        "print(array_to_tensor)"
      ],
      "metadata": {
        "colab": {
          "base_uri": "https://localhost:8080/"
        },
        "id": "0m_kPNfH33vj",
        "outputId": "6d2fa4aa-fee7-459b-f75a-789c5a4a96e4"
      },
      "execution_count": 28,
      "outputs": [
        {
          "output_type": "stream",
          "name": "stdout",
          "text": [
            "[[1 2]\n",
            " [3 4]\n",
            " [5 6]]\n",
            "tensor([[1, 2],\n",
            "        [3, 4],\n",
            "        [5, 6]])\n"
          ]
        }
      ]
    },
    {
      "cell_type": "code",
      "source": [
        "# Back to array from tensor\n",
        "back_to_array = array_to_tensor.numpy()\n",
        "print(back_to_array)"
      ],
      "metadata": {
        "colab": {
          "base_uri": "https://localhost:8080/"
        },
        "id": "UkKQ5t_p5I1v",
        "outputId": "45ddae40-18f1-4ea5-eeaa-cd44247a8404"
      },
      "execution_count": 29,
      "outputs": [
        {
          "output_type": "stream",
          "name": "stdout",
          "text": [
            "[[1 2]\n",
            " [3 4]\n",
            " [5 6]]\n"
          ]
        }
      ]
    },
    {
      "cell_type": "markdown",
      "source": [
        "# Tensor Math & Comparison Operations"
      ],
      "metadata": {
        "id": "Ad38bUPe5Z56"
      }
    },
    {
      "cell_type": "code",
      "source": [
        "x = torch.tensor([[1,2,3],[5,6,7]])\n",
        "y = torch.tensor([[8,9,10],[11,12,13]])"
      ],
      "metadata": {
        "id": "jDRjPczH5WuG"
      },
      "execution_count": 30,
      "outputs": []
    },
    {
      "cell_type": "code",
      "source": [
        "# Addition\n",
        "print(torch.add(x,y))\n",
        "print(x+y)"
      ],
      "metadata": {
        "colab": {
          "base_uri": "https://localhost:8080/"
        },
        "id": "0hOl_XIjIXn6",
        "outputId": "9dc81623-a970-454e-c9fd-2b8478bd86b9"
      },
      "execution_count": 32,
      "outputs": [
        {
          "output_type": "stream",
          "name": "stdout",
          "text": [
            "tensor([[ 9, 11, 13],\n",
            "        [16, 18, 20]])\n",
            "tensor([[ 9, 11, 13],\n",
            "        [16, 18, 20]])\n"
          ]
        }
      ]
    },
    {
      "cell_type": "code",
      "source": [
        "# Subtraction\n",
        "x-y"
      ],
      "metadata": {
        "colab": {
          "base_uri": "https://localhost:8080/"
        },
        "id": "gjQbvp5KIYki",
        "outputId": "b34bf3d9-c519-44c5-a134-dc413f398343"
      },
      "execution_count": 33,
      "outputs": [
        {
          "output_type": "execute_result",
          "data": {
            "text/plain": [
              "tensor([[-7, -7, -7],\n",
              "        [-6, -6, -6]])"
            ]
          },
          "metadata": {},
          "execution_count": 33
        }
      ]
    },
    {
      "cell_type": "code",
      "source": [
        "# Division\n",
        "print(x/y)\n",
        "print(torch.true_divide(x,y))"
      ],
      "metadata": {
        "colab": {
          "base_uri": "https://localhost:8080/"
        },
        "id": "eFs0kSM-Inbm",
        "outputId": "ba4f8206-0585-4641-9c01-e66362abce04"
      },
      "execution_count": 36,
      "outputs": [
        {
          "output_type": "stream",
          "name": "stdout",
          "text": [
            "tensor([[0.1250, 0.2222, 0.3000],\n",
            "        [0.4545, 0.5000, 0.5385]])\n",
            "tensor([[0.1250, 0.2222, 0.3000],\n",
            "        [0.4545, 0.5000, 0.5385]])\n"
          ]
        }
      ]
    },
    {
      "cell_type": "code",
      "source": [
        "# Multiplication (Element-wise)\n",
        "x * y"
      ],
      "metadata": {
        "colab": {
          "base_uri": "https://localhost:8080/"
        },
        "id": "mSgIATMTKnxT",
        "outputId": "aec9d4f8-c1f6-4aa6-f8aa-d5fbf3cdae84"
      },
      "execution_count": 40,
      "outputs": [
        {
          "output_type": "execute_result",
          "data": {
            "text/plain": [
              "tensor([[ 8, 18, 30],\n",
              "        [55, 72, 91]])"
            ]
          },
          "metadata": {},
          "execution_count": 40
        }
      ]
    },
    {
      "cell_type": "code",
      "source": [
        "# Dot product\n",
        "torch.dot(torch.tensor([1,2]),torch.tensor([3,4]))"
      ],
      "metadata": {
        "colab": {
          "base_uri": "https://localhost:8080/"
        },
        "id": "0-qe4byYK1ja",
        "outputId": "2d417f53-b726-4fc8-f2f5-d8c61e34d9c1"
      },
      "execution_count": 43,
      "outputs": [
        {
          "output_type": "execute_result",
          "data": {
            "text/plain": [
              "tensor(11)"
            ]
          },
          "metadata": {},
          "execution_count": 43
        }
      ]
    },
    {
      "cell_type": "code",
      "source": [
        "# Inplace operation (using underscore _)\n",
        "t = torch.zeros((2,3))\n",
        "t.add_(x) # t = t+x"
      ],
      "metadata": {
        "colab": {
          "base_uri": "https://localhost:8080/"
        },
        "id": "8QMeFR_vIqfN",
        "outputId": "f01f90a5-ff94-4df8-f21d-b16b3e3592a7"
      },
      "execution_count": 37,
      "outputs": [
        {
          "output_type": "execute_result",
          "data": {
            "text/plain": [
              "tensor([[1., 2., 3.],\n",
              "        [5., 6., 7.]])"
            ]
          },
          "metadata": {},
          "execution_count": 37
        }
      ]
    },
    {
      "cell_type": "markdown",
      "source": [
        "## Mathematics in Matrix"
      ],
      "metadata": {
        "id": "1dOmKXfRKC9y"
      }
    },
    {
      "cell_type": "code",
      "source": [
        "# Matrix Multiplication\n",
        "x1 = torch.rand((2,5))\n",
        "x2 = torch.rand((5,3))\n",
        "\n",
        "torch.mm(x1, x2) # Output: 2x3"
      ],
      "metadata": {
        "colab": {
          "base_uri": "https://localhost:8080/"
        },
        "id": "kR7-_cNLJF2V",
        "outputId": "25820f19-5867-4b15-de2f-1d2b0a89cfa6"
      },
      "execution_count": 38,
      "outputs": [
        {
          "output_type": "execute_result",
          "data": {
            "text/plain": [
              "tensor([[2.0499, 2.1251, 1.1744],\n",
              "        [1.9544, 1.6166, 0.7315]])"
            ]
          },
          "metadata": {},
          "execution_count": 38
        }
      ]
    },
    {
      "cell_type": "code",
      "source": [
        "# Matrix Exponential \n",
        "matrix_exp = torch.rand(5,5)\n",
        "matrix_exp.matrix_power(3)"
      ],
      "metadata": {
        "colab": {
          "base_uri": "https://localhost:8080/"
        },
        "id": "LAlyryGIJvA1",
        "outputId": "8728cd96-5f48-4117-9d74-fd84749e37dd"
      },
      "execution_count": 39,
      "outputs": [
        {
          "output_type": "execute_result",
          "data": {
            "text/plain": [
              "tensor([[2.4397, 3.4638, 2.8358, 2.6230, 2.5329],\n",
              "        [0.6314, 0.9388, 0.7470, 0.6896, 0.6754],\n",
              "        [0.7430, 1.1602, 0.8915, 0.8608, 0.7525],\n",
              "        [1.6575, 2.4752, 1.9314, 1.9064, 1.6744],\n",
              "        [1.5045, 2.4136, 1.7250, 1.8399, 1.6108]])"
            ]
          },
          "metadata": {},
          "execution_count": 39
        }
      ]
    },
    {
      "cell_type": "code",
      "source": [
        "# Batch Matrix Multiplication\n",
        "batch = 32\n",
        "n =10\n",
        "m =20\n",
        "p =30\n",
        "\n",
        "tensor1 = torch.rand((batch, n, m))\n",
        "tensor2 = torch.rand((batch, m, p))\n",
        "out = torch.bmm(tensor1, tensor2)\n",
        "\n",
        "print(out)\n",
        "print(out.shape)"
      ],
      "metadata": {
        "colab": {
          "base_uri": "https://localhost:8080/"
        },
        "id": "5OvOSk2PKcIJ",
        "outputId": "07c3b98b-2837-479f-c9c1-b7292888cbee"
      },
      "execution_count": 44,
      "outputs": [
        {
          "output_type": "stream",
          "name": "stdout",
          "text": [
            "tensor([[[4.9903, 3.3348, 3.9685,  ..., 5.0077, 3.4592, 5.7276],\n",
            "         [5.2105, 3.1722, 3.3587,  ..., 4.3623, 3.4300, 5.0585],\n",
            "         [5.4026, 5.1604, 4.1888,  ..., 5.9809, 4.2747, 6.4499],\n",
            "         ...,\n",
            "         [5.6785, 3.8833, 3.5336,  ..., 4.7485, 4.3039, 6.0210],\n",
            "         [4.5713, 3.6091, 3.6271,  ..., 4.8249, 3.1889, 5.1200],\n",
            "         [3.9078, 2.7267, 2.4556,  ..., 3.8063, 2.7163, 4.1327]],\n",
            "\n",
            "        [[4.8107, 5.0009, 4.4901,  ..., 5.8293, 6.2907, 4.2899],\n",
            "         [4.7636, 4.5834, 4.7004,  ..., 6.5569, 5.7826, 4.9547],\n",
            "         [3.4673, 4.6261, 4.0542,  ..., 4.8149, 5.2270, 4.3285],\n",
            "         ...,\n",
            "         [3.7489, 4.4672, 4.2567,  ..., 4.0492, 4.5682, 3.6756],\n",
            "         [3.9976, 5.1025, 5.1202,  ..., 5.4569, 5.7278, 5.3895],\n",
            "         [2.5476, 4.0606, 3.5223,  ..., 4.0300, 4.7444, 3.8537]],\n",
            "\n",
            "        [[5.8576, 4.9577, 4.7361,  ..., 6.2609, 5.1008, 6.8773],\n",
            "         [4.1361, 3.2310, 3.5119,  ..., 3.7873, 2.7118, 4.5836],\n",
            "         [4.9658, 5.7927, 5.0784,  ..., 5.3420, 4.2976, 6.1790],\n",
            "         ...,\n",
            "         [5.7324, 6.1256, 5.7598,  ..., 5.8945, 4.9795, 6.3728],\n",
            "         [5.2394, 5.5129, 5.2318,  ..., 4.9900, 4.3374, 6.1081],\n",
            "         [4.8232, 4.4882, 3.9832,  ..., 5.0441, 4.3948, 5.5547]],\n",
            "\n",
            "        ...,\n",
            "\n",
            "        [[5.5785, 5.9011, 5.3218,  ..., 5.4929, 4.5020, 5.3378],\n",
            "         [7.3223, 6.7347, 6.4082,  ..., 5.3682, 5.2638, 5.4105],\n",
            "         [5.6213, 5.9761, 5.3096,  ..., 4.0777, 4.0714, 3.8079],\n",
            "         ...,\n",
            "         [6.4240, 5.7807, 5.5072,  ..., 4.3430, 4.2291, 4.5047],\n",
            "         [5.5053, 4.6871, 4.6779,  ..., 4.3437, 3.8512, 3.9261],\n",
            "         [5.5463, 4.9621, 5.3211,  ..., 4.0733, 4.1241, 3.8840]],\n",
            "\n",
            "        [[7.0174, 6.1649, 6.5004,  ..., 5.3615, 7.2167, 7.7684],\n",
            "         [4.1194, 3.4758, 3.9000,  ..., 3.2597, 4.0239, 4.3570],\n",
            "         [4.8235, 3.8722, 4.6480,  ..., 4.1231, 5.1543, 5.1423],\n",
            "         ...,\n",
            "         [6.2445, 4.2783, 5.5667,  ..., 4.5359, 5.4203, 6.0776],\n",
            "         [7.3096, 5.9515, 7.3712,  ..., 5.3145, 7.3238, 8.0958],\n",
            "         [5.0892, 3.7829, 4.7399,  ..., 3.6734, 4.6818, 5.0555]],\n",
            "\n",
            "        [[3.3584, 4.3551, 3.7020,  ..., 4.2881, 3.8117, 7.0394],\n",
            "         [3.4735, 4.3642, 3.6322,  ..., 4.3003, 3.6991, 5.9473],\n",
            "         [3.1178, 4.3855, 3.7849,  ..., 4.4678, 3.9039, 6.3300],\n",
            "         ...,\n",
            "         [3.8051, 4.7243, 4.1937,  ..., 5.1480, 4.2523, 6.8120],\n",
            "         [3.1365, 3.3784, 2.9972,  ..., 3.6940, 3.3641, 5.2697],\n",
            "         [4.1787, 4.2786, 3.6502,  ..., 5.4184, 4.1199, 6.0667]]])\n",
            "torch.Size([32, 10, 30])\n"
          ]
        }
      ]
    },
    {
      "cell_type": "code",
      "source": [
        "# Operation within the matrix\n",
        "x = torch.tensor([[[1,2,3],[4,5,6]],\n",
        "                  [[2,4,6],[1,3,5]],\n",
        "                  [[1,1,1],[2,2,2]]])\n",
        "\n",
        "print(x)"
      ],
      "metadata": {
        "colab": {
          "base_uri": "https://localhost:8080/"
        },
        "id": "15_pkfFYMwmj",
        "outputId": "27569f49-61f6-4b38-84ef-3c2d007fb55c"
      },
      "execution_count": 52,
      "outputs": [
        {
          "output_type": "stream",
          "name": "stdout",
          "text": [
            "tensor([[[1, 2, 3],\n",
            "         [4, 5, 6]],\n",
            "\n",
            "        [[2, 4, 6],\n",
            "         [1, 3, 5]],\n",
            "\n",
            "        [[1, 1, 1],\n",
            "         [2, 2, 2]]])\n"
          ]
        }
      ]
    },
    {
      "cell_type": "code",
      "source": [
        "torch.sum(x, dim=0)"
      ],
      "metadata": {
        "colab": {
          "base_uri": "https://localhost:8080/"
        },
        "id": "SRO2R6DUmz78",
        "outputId": "d3e96f4d-3a49-448c-feaa-454815a20f23"
      },
      "execution_count": 53,
      "outputs": [
        {
          "output_type": "execute_result",
          "data": {
            "text/plain": [
              "tensor([[ 4,  7, 10],\n",
              "        [ 7, 10, 13]])"
            ]
          },
          "metadata": {},
          "execution_count": 53
        }
      ]
    },
    {
      "cell_type": "code",
      "source": [
        "torch.sum(x, dim=1)"
      ],
      "metadata": {
        "colab": {
          "base_uri": "https://localhost:8080/"
        },
        "id": "k4I1QLwfm3Q7",
        "outputId": "75c765b9-7821-4327-c86d-06d123929c0e"
      },
      "execution_count": 54,
      "outputs": [
        {
          "output_type": "execute_result",
          "data": {
            "text/plain": [
              "tensor([[ 5,  7,  9],\n",
              "        [ 3,  7, 11],\n",
              "        [ 3,  3,  3]])"
            ]
          },
          "metadata": {},
          "execution_count": 54
        }
      ]
    },
    {
      "cell_type": "code",
      "source": [
        "torch.sum(x, dim=2)"
      ],
      "metadata": {
        "colab": {
          "base_uri": "https://localhost:8080/"
        },
        "id": "jlRP1Zhzm9bR",
        "outputId": "22d2df47-db52-4799-bd48-12606d30db42"
      },
      "execution_count": 55,
      "outputs": [
        {
          "output_type": "execute_result",
          "data": {
            "text/plain": [
              "tensor([[ 6, 15],\n",
              "        [12,  9],\n",
              "        [ 3,  6]])"
            ]
          },
          "metadata": {},
          "execution_count": 55
        }
      ]
    },
    {
      "cell_type": "markdown",
      "source": [
        "# Tensor Indexing"
      ],
      "metadata": {
        "id": "IS3pYTwqoWIz"
      }
    },
    {
      "cell_type": "code",
      "source": [
        "batch_size =10\n",
        "features = 25\n",
        "\n",
        "x = torch.rand((batch_size, features))\n",
        "\n",
        "x[2, 0:10] # 3rd batch and its 10 features from 0 index to 9"
      ],
      "metadata": {
        "colab": {
          "base_uri": "https://localhost:8080/"
        },
        "id": "xTm4qs-dn6Ww",
        "outputId": "d4b7cff9-5448-4693-eccb-93a6ee924131"
      },
      "execution_count": 56,
      "outputs": [
        {
          "output_type": "execute_result",
          "data": {
            "text/plain": [
              "tensor([0.6904, 0.9629, 0.5070, 0.7572, 0.1192, 0.0517, 0.9076, 0.6980, 0.8497,\n",
              "        0.8849])"
            ]
          },
          "metadata": {},
          "execution_count": 56
        }
      ]
    },
    {
      "cell_type": "markdown",
      "source": [
        "# Tensor Reshaping"
      ],
      "metadata": {
        "id": "mQRbum_n8COs"
      }
    },
    {
      "cell_type": "code",
      "source": [
        "x = torch.arange(9)\n",
        "x"
      ],
      "metadata": {
        "colab": {
          "base_uri": "https://localhost:8080/"
        },
        "id": "4fEnmsON6qgs",
        "outputId": "7cbab40a-9f8a-41ce-c955-854a54047fe3"
      },
      "execution_count": 57,
      "outputs": [
        {
          "output_type": "execute_result",
          "data": {
            "text/plain": [
              "tensor([0, 1, 2, 3, 4, 5, 6, 7, 8])"
            ]
          },
          "metadata": {},
          "execution_count": 57
        }
      ]
    },
    {
      "cell_type": "code",
      "source": [
        "x.view(3,3)"
      ],
      "metadata": {
        "colab": {
          "base_uri": "https://localhost:8080/"
        },
        "id": "5kLuaZ738IAN",
        "outputId": "52d98175-0f31-46d4-ea0c-01cbf53b822e"
      },
      "execution_count": 58,
      "outputs": [
        {
          "output_type": "execute_result",
          "data": {
            "text/plain": [
              "tensor([[0, 1, 2],\n",
              "        [3, 4, 5],\n",
              "        [6, 7, 8]])"
            ]
          },
          "metadata": {},
          "execution_count": 58
        }
      ]
    },
    {
      "cell_type": "code",
      "source": [
        "x.reshape(3,3)"
      ],
      "metadata": {
        "colab": {
          "base_uri": "https://localhost:8080/"
        },
        "id": "YK8U6C5r8NLU",
        "outputId": "0ab93e3f-e092-4681-a84c-9895ba19637c"
      },
      "execution_count": 59,
      "outputs": [
        {
          "output_type": "execute_result",
          "data": {
            "text/plain": [
              "tensor([[0, 1, 2],\n",
              "        [3, 4, 5],\n",
              "        [6, 7, 8]])"
            ]
          },
          "metadata": {},
          "execution_count": 59
        }
      ]
    },
    {
      "cell_type": "markdown",
      "source": [
        "**Note:** `reshape()` can operate on both contiguous and non-contiguous tensor while `view()` can only operate on contiguous tensor. \n",
        "\n",
        "Link to understand Contiguous Vs. Non-Contiguous: \n",
        "https://stackoverflow.com/questions/26998223/what-is-the-difference-between-contiguous-and-non-contiguous-arrays/26999092#26999092"
      ],
      "metadata": {
        "id": "SpGZqpg3-hYz"
      }
    }
  ]
}